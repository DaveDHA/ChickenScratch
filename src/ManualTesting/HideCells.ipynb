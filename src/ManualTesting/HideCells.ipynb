{
 "cells": [
  {
   "cell_type": "code",
   "execution_count": 1,
   "metadata": {
    "dotnet_interactive": {
     "language": "fsharp"
    },
    "polyglot_notebook": {
     "kernelName": "fsharp"
    }
   },
   "outputs": [
    {
     "data": {
      "text/plain": [
       "local-638653117807246532"
      ]
     },
     "metadata": {},
     "output_type": "display_data"
    },
    {
     "name": "stdout",
     "output_type": "stream",
     "text": [
      "MSBuild version 17.9.8+610b4d3b5 for .NET\n",
      "  Determining projects to restore...\n",
      "  Restored C:\\Dev\\ChickenScratch\\src\\Testing.ChickenScratch\\Testing.ChickenScratch.fsproj (in 168 ms).\n",
      "  Restored C:\\Dev\\ChickenScratch\\src\\ChickenScratch.Interactive\\ChickenScratch.Interactive.fsproj (in 172 ms).\n",
      "  Restored C:\\Dev\\ChickenScratch\\src\\ChickenScratch\\ChickenScratch.fsproj (in 168 ms).\n",
      "  ChickenScratch -> C:\\Dev\\ChickenScratch\\src\\ChickenScratch\\bin\\Debug\\netstandard2.1\\ChickenScratch.dll\n",
      "  Successfully created package 'C:\\Dev\\ChickenScratch\\src\\ChickenScratch\\bin\\Debug\\ChickenScratch.1.3.0-local-638653117807246532.nupkg'.\n",
      "  ChickenScratch.Interactive -> C:\\Dev\\ChickenScratch\\src\\ChickenScratch.Interactive\\bin\\Debug\\net8.0\\ChickenScratch.Interactive.dll\n",
      "  Successfully created package 'C:\\Dev\\ChickenScratch\\src\\ChickenScratch.Interactive\\bin\\Debug\\ChickenScratch.Interactive.1.3.0-local-638653117807246532.nupkg'.\n"
     ]
    },
    {
     "data": {
      "text/html": [
       "<div><div><strong>Restore sources</strong><ul><li><span> C:/Dev/ChickenScratch/src/ChickenScratch.Interactive/bin/Debug</span></li><li><span> C:/Dev/ChickenScratch/src/ChickenScratch/bin/Debug</span></li></ul></div><div></div><div><strong>Installed Packages</strong><ul><li><span>ChickenScratch.Interactive, 1.3.0-local-638653117807246532</span></li></ul></div></div>"
      ]
     },
     "metadata": {},
     "output_type": "display_data"
    },
    {
     "data": {
      "text/plain": [
       "Loading extension script from `C:\\Users\\dave\\.nuget\\packages\\chickenscratch.interactive\\1.3.0-local-638653117807246532\\interactive-extensions\\dotnet\\extension.dib`"
      ]
     },
     "metadata": {},
     "output_type": "display_data"
    },
    {
     "data": {
      "text/html": [
       "<style>\n",
       "    /* ChickenScratch.Interactive - styles to hide cells via cell tags in HTML exports. */\r\n",
       ".celltag_html_export_hide_all { display: none; }\r\n",
       ".celltag_html_export_hide_code .jp-Cell-inputWrapper { display: none; }\r\n",
       ".celltag_html_export_hide_output .jp-Cell-outputWrapper { display: none; }\r\n",
       "\n",
       "</style>"
      ]
     },
     "metadata": {},
     "output_type": "display_data"
    }
   ],
   "source": [
    "#!import \"PackAndLoad.dib\""
   ]
  },
  {
   "cell_type": "code",
   "execution_count": 2,
   "metadata": {
    "dotnet_interactive": {
     "language": "fsharp"
    },
    "polyglot_notebook": {
     "kernelName": "fsharp"
    }
   },
   "outputs": [
    {
     "name": "stdout",
     "output_type": "stream",
     "text": [
      "Visible (no cell tag)\n"
     ]
    }
   ],
   "source": [
    "printfn \"Visible (no cell tag)\""
   ]
  },
  {
   "cell_type": "code",
   "execution_count": 3,
   "metadata": {
    "dotnet_interactive": {
     "language": "fsharp"
    },
    "polyglot_notebook": {
     "kernelName": "fsharp"
    },
    "tags": [
     "html_export_hide_all"
    ]
   },
   "outputs": [
    {
     "name": "stdout",
     "output_type": "stream",
     "text": [
      "All hidden (cell tag hideAll)\n"
     ]
    }
   ],
   "source": [
    "printfn \"All hidden (cell tag hideAll)\""
   ]
  },
  {
   "cell_type": "code",
   "execution_count": 4,
   "metadata": {
    "dotnet_interactive": {
     "language": "fsharp"
    },
    "polyglot_notebook": {
     "kernelName": "fsharp"
    },
    "tags": [
     "html_export_hide_code"
    ]
   },
   "outputs": [
    {
     "name": "stdout",
     "output_type": "stream",
     "text": [
      "Code hidden (cell tag hideCode)\n"
     ]
    }
   ],
   "source": [
    "printfn \"Code hidden (cell tag hideCode)\""
   ]
  },
  {
   "cell_type": "code",
   "execution_count": 5,
   "metadata": {
    "dotnet_interactive": {
     "language": "fsharp"
    },
    "polyglot_notebook": {
     "kernelName": "fsharp"
    },
    "tags": [
     "html_export_hide_output"
    ]
   },
   "outputs": [
    {
     "name": "stdout",
     "output_type": "stream",
     "text": [
      "Output hidden (cell tag hideOutput)\n"
     ]
    }
   ],
   "source": [
    "printfn \"Output hidden (cell tag hideOutput)\"\n"
   ]
  },
  {
   "attachments": {},
   "cell_type": "markdown",
   "metadata": {},
   "source": [
    "Markdown shown (no cell tag)"
   ]
  },
  {
   "attachments": {},
   "cell_type": "markdown",
   "metadata": {
    "tags": [
     "html_export_hide_all"
    ]
   },
   "source": [
    "Markdown hidden (cell tag hideAll)"
   ]
  }
 ],
 "metadata": {
  "kernelspec": {
   "display_name": ".NET (C#)",
   "language": "C#",
   "name": ".net-csharp"
  },
  "language_info": {
   "name": "polyglot-notebook"
  },
  "polyglot_notebook": {
   "kernelInfo": {
    "defaultKernelName": "csharp",
    "items": [
     {
      "aliases": [],
      "name": "csharp"
     },
     {
      "aliases": [],
      "languageName": "fsharp",
      "name": "fsharp"
     }
    ]
   }
  }
 },
 "nbformat": 4,
 "nbformat_minor": 2
}
