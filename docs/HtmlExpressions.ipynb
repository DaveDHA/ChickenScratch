{
 "cells": [
  {
   "attachments": {},
   "cell_type": "markdown",
   "metadata": {},
   "source": [
    "# ChickenScratch.Interactive\n",
    "\n",
    "## Add ChickenScratch.Interactive to your Polyglot Notebook"
   ]
  },
  {
   "cell_type": "code",
   "execution_count": 1,
   "metadata": {
    "dotnet_interactive": {
     "language": "fsharp"
    },
    "polyglot_notebook": {
     "kernelName": "fsharp"
    }
   },
   "outputs": [
    {
     "data": {
      "text/html": [
       "<div><div></div><div></div><div><strong>Installed Packages</strong><ul><li><span>ChickenScratch.Interactive, 1.1.0</span></li></ul></div></div>"
      ]
     },
     "metadata": {},
     "output_type": "display_data"
    },
    {
     "data": {
      "text/plain": [
       "Loading extension script from `C:\\Users\\dave\\.nuget\\packages\\chickenscratch.interactive\\1.1.0\\interactive-extensions\\dotnet\\extension.dib`"
      ]
     },
     "metadata": {},
     "output_type": "display_data"
    }
   ],
   "source": [
    "#r \"nuget: ChickenScratch.Interactive\"\n",
    "open ChickenScratch"
   ]
  },
  {
   "attachments": {},
   "cell_type": "markdown",
   "metadata": {},
   "source": [
    "## Creating Html\n",
    "\n",
    "### Basic Html"
   ]
  },
  {
   "cell_type": "code",
   "execution_count": 2,
   "metadata": {
    "dotnet_interactive": {
     "language": "fsharp"
    },
    "polyglot_notebook": {
     "kernelName": "fsharp"
    }
   },
   "outputs": [
    {
     "data": {
      "text/html": [
       "<div style=\"border: solid 3px green ; background-color: lightgray ; color: black; padding: 10px\">\n",
       "    <h1>Welcome to Chicken Scratch</h1>\n",
       "    <ul>\n",
       "        <li>Simple DSL for creating HTML</li>\n",
       "        <li>\n",
       "            Include\n",
       "            <strong>IScratchNodeSource</strong>\n",
       "            types directly in your Html exressions\n",
       "        </li>\n",
       "        <li>Add content from files, strings, streams, or resources</li>\n",
       "        <li>Add Base64 encoded images</li>\n",
       "    </ul>\n",
       "</div>"
      ]
     },
     "metadata": {},
     "output_type": "display_data"
    }
   ],
   "source": [
    "module Sample1 =\n",
    "    open ChickenScratch.HtmlExpressions\n",
    "\n",
    "    let doc = div {\n",
    "        _style \"border: solid 3px green ; background-color: lightgray ; color: black; padding: 10px\"        \n",
    "        \n",
    "        h1 { \"Welcome to Chicken Scratch\" }\n",
    "\n",
    "        ul {\n",
    "            li { \"Simple DSL for creating HTML\" }\n",
    "            li { \"Include\" ; strong { \"IScratchNodeSource\" } ; \"types directly in your Html exressions\" } \n",
    "            li { \"Add content from files, strings, streams, or resources\" }    \n",
    "            li { \"Add Base64 encoded images\" }       \n",
    "        }        \n",
    "    }\n",
    "\n",
    "Sample1.doc"
   ]
  },
  {
   "cell_type": "code",
   "execution_count": 3,
   "metadata": {
    "dotnet_interactive": {
     "language": "fsharp"
    },
    "polyglot_notebook": {
     "kernelName": "fsharp"
    }
   },
   "outputs": [
    {
     "name": "stdout",
     "output_type": "stream",
     "text": [
      "<div style=\"border: solid 3px green ; background-color: lightgray ; color: black; padding: 10px\">\n",
      "    <h1>Welcome to Chicken Scratch</h1>\n",
      "    <ul>\n",
      "        <li>Simple DSL for creating HTML</li>\n",
      "        <li>\n",
      "            Include\n",
      "            <strong>IScratchNodeSource</strong>\n",
      "            types directly in your Html exressions\n",
      "        </li>\n",
      "        <li>Add content from files, strings, streams, or resources</li>\n",
      "        <li>Add Base64 encoded images</li>\n",
      "    </ul>\n",
      "</div>\n"
     ]
    }
   ],
   "source": [
    "printfn \"%A\" Sample1.doc"
   ]
  },
  {
   "attachments": {},
   "cell_type": "markdown",
   "metadata": {},
   "source": [
    "Attributes (such `_style`, `_class`, and `_height`) are prefixed with an underscore character.  Tags (such as `div`, `table`, and `h1`) and events (such as `onclick`, `onmouseup`, and `onscroll`) are not.  All are contained within the `HtmlExpressions` module.  It is recommended that you open that module only within a limited scope to prevent common name collisions.\n",
    "\n",
    "Tags, attributes, and events can be found in the `Tags`, `Attributes`, and `Events` modules respectively.  Those modules are auto-opened with the `HtmlExpressions` module so you generally don't need to specify them, but if you are having trouble remembering exactly what that event you need is called, type `Events.` and let your code completion tool help you find it.\n",
    "\n",
    "All string content will be encoded.  Use `RawContent` if you want to avoid encoding.\n",
    "\n",
    "Be careful to keep your style selectors local to only the content you want to modify, or you may end up affecting other output in the notebook."
   ]
  },
  {
   "cell_type": "code",
   "execution_count": 4,
   "metadata": {
    "dotnet_interactive": {
     "language": "fsharp"
    },
    "polyglot_notebook": {
     "kernelName": "fsharp"
    }
   },
   "outputs": [
    {
     "data": {
      "text/html": [
       "<div id=\"sample2\">\n",
       "    <style>\n",
       "        \n",
       "                #sample2 .mainHeader { color: red }\n",
       "                #sample2 li { color: green ; text-decoration: underline }\n",
       "            \n",
       "    </style>\n",
       "    <h1 class=\"mainHeader\">Look at this</h1>\n",
       "    <ul>\n",
       "        <li>Item 1</li>\n",
       "        <li style=\"color: yellow\">Item 2</li>\n",
       "        <li>Item 3</li>\n",
       "    </ul>\n",
       "    <hr/>\n",
       "    <p>This content is encoded &amp; you can see that 1 &lt; 2.</p>\n",
       "    <p>This content is <strong>not</strong> encoded.</p>\n",
       "    <p>This content is not encoded either.</p>\n",
       "</div>"
      ]
     },
     "metadata": {},
     "output_type": "display_data"
    }
   ],
   "source": [
    "module Sample2 =\n",
    "    open ChickenScratch.HtmlExpressions\n",
    "\n",
    "    let doc = div {\n",
    "        _id \"sample2\"\n",
    "        style { \"\"\"\n",
    "                #sample2 .mainHeader { color: red }\n",
    "                #sample2 li { color: green ; text-decoration: underline }\n",
    "            \"\"\" }\n",
    "        \n",
    "        h1 { \"Look at this\" ; _class \"mainHeader\" }\n",
    "\n",
    "        ul { \n",
    "            yield! \n",
    "                seq {1..3} \n",
    "                |> Seq.map (fun i -> li { $\"Item {i}\" ; if i % 2 = 0 then _style \"color: yellow\" })\n",
    "        }\n",
    "\n",
    "        hr { () }\n",
    "\n",
    "        Tags.p { \"This content is encoded & you can see that 1 < 2.\" }\n",
    "        p { RawContent \"This content is <strong>not</strong> encoded.\" }\n",
    "        RawContent \"<p>This content is not encoded either.</p>\"\n",
    "    }\n",
    "\n",
    "Sample2.doc"
   ]
  },
  {
   "attachments": {},
   "cell_type": "markdown",
   "metadata": {},
   "source": [
    "### Including `IScratchNodeSource` Items in Html Expressions\n",
    "\n",
    "Any type that implements `IScratchNodeSource` can be dropped directly into your Html expressions.  `IScratchNodeSource` also has a registered formatter with the notebook, so objects implementing that interface can be displayed directly."
   ]
  },
  {
   "cell_type": "code",
   "execution_count": 5,
   "metadata": {
    "dotnet_interactive": {
     "language": "fsharp"
    },
    "polyglot_notebook": {
     "kernelName": "fsharp"
    }
   },
   "outputs": [],
   "source": [
    "module Sample3 =\n",
    "    open ChickenScratch.HtmlExpressions\n",
    "\n",
    "    type EmployeeInfo = {\n",
    "        Id : int\n",
    "        Name : string\n",
    "        Email : string\n",
    "    }\n",
    "    with\n",
    "        interface IScratchNodeSource with\n",
    "            member this.GetScratchNodes() = [ \n",
    "                EncodedContent $\"{this.Id}: \"\n",
    "                strong { $\"{this.Name} \" }\n",
    "                EncodedContent $\"({this.Email})\" \n",
    "            ]\n",
    "\n",
    "\n",
    "    type OrgChartEntry = \n",
    "    | Manager of EmployeeInfo * (OrgChartEntry list)\n",
    "    | WorkerBee of EmployeeInfo\n",
    "    with \n",
    "        interface IScratchNodeSource with\n",
    "            member this.GetScratchNodes() = \n",
    "                match this with\n",
    "                | WorkerBee emp -> [ li { span { emp ; _class \"workerBee\" } } ]\n",
    "                | Manager (mgr, emps) -> [ li { span { mgr ; _class \"manager\"} ; ul { yield! emps } } ]\n",
    "\n",
    "\n",
    "    type Company = {\n",
    "        Name : string\n",
    "        OrgChart : OrgChartEntry list\n",
    "    }\n",
    "    with \n",
    "        interface IScratchNodeSource with\n",
    "            member this.GetScratchNodes() = [ h1 { this.Name } ; ul { yield! this.OrgChart }]"
   ]
  },
  {
   "cell_type": "code",
   "execution_count": 6,
   "metadata": {
    "dotnet_interactive": {
     "language": "fsharp"
    },
    "polyglot_notebook": {
     "kernelName": "fsharp"
    }
   },
   "outputs": [
    {
     "data": {
      "text/html": [
       "<h1>Samples Incorporated</h1>\n",
       "<ul>\n",
       "    <li>\n",
       "        <span class=\"manager\">\n",
       "            1: \n",
       "            <strong>Molly Manager </strong>\n",
       "            (theboss@Sample.com)\n",
       "        </span>\n",
       "        <ul>\n",
       "            <li>\n",
       "                <span class=\"workerBee\">\n",
       "                    10: \n",
       "                    <strong>Sammy Sampleson </strong>\n",
       "                    (sam@sample.com)\n",
       "                </span>\n",
       "            </li>\n",
       "            <li>\n",
       "                <span class=\"workerBee\">\n",
       "                    11: \n",
       "                    <strong>Elise Example </strong>\n",
       "                    (elise@sample.com)\n",
       "                </span>\n",
       "            </li>\n",
       "            <li>\n",
       "                <span class=\"workerBee\">\n",
       "                    12: \n",
       "                    <strong>Testy McTesterson </strong>\n",
       "                    (Testy@Test.com)\n",
       "                </span>\n",
       "            </li>\n",
       "        </ul>\n",
       "    </li>\n",
       "</ul>"
      ]
     },
     "metadata": {},
     "output_type": "display_data"
    }
   ],
   "source": [
    "open Sample3\n",
    "\n",
    "{\n",
    "    Name = \"Samples Incorporated\"\n",
    "    OrgChart = [\n",
    "        Manager ({ Id = 1 ; Name = \"Molly Manager\" ; Email = \"theboss@Sample.com\" }, [\n",
    "            WorkerBee { Id = 10 ; Name = \"Sammy Sampleson\" ; Email = \"sam@sample.com\" }\n",
    "            WorkerBee { Id = 11 ; Name = \"Elise Example\" ; Email = \"elise@sample.com\" }\n",
    "            WorkerBee { Id = 12 ; Name = \"Testy McTesterson\" ; Email = \"Testy@Test.com\" }\n",
    "        ])\n",
    "    ]\n",
    "}    "
   ]
  },
  {
   "attachments": {},
   "cell_type": "markdown",
   "metadata": {},
   "source": [
    "### Adding Content from Files, Strings, Streams, and Resources\n",
    "\n",
    "`ScratchStyle`, `ScratchScript`, and `ScratchHtml` each offer the following methods:\n",
    "\n",
    "- `FromString : String -> ScratchNode`\n",
    "- `FromStream : Stream -> ScratchNode`\n",
    "- `FromFile : String -> ScratchNode`\n",
    "- `FromResource : Assembly -> String -> ScratchNode`\n",
    "\n",
    "These can be used to load additional content into Html expressions."
   ]
  },
  {
   "cell_type": "code",
   "execution_count": 7,
   "metadata": {
    "dotnet_interactive": {
     "language": "fsharp"
    },
    "polyglot_notebook": {
     "kernelName": "fsharp"
    }
   },
   "outputs": [
    {
     "data": {
      "text/html": [
       "<div id=\"sample4\">\n",
       "    <style>\n",
       "        #sample4 { \r\n",
       "    border: solid 3px black;\r\n",
       "    border-radius: 25px;\r\n",
       "    background-color: lightgrey;\r\n",
       "    color: black;\r\n",
       "    font-family: Georgia;\r\n",
       "    width: 30em;\r\n",
       "    margin-left: auto;\r\n",
       "    margin-right: auto;\r\n",
       "    padding: 20px;\r\n",
       "}\r\n",
       "#sample4 .manager { \r\n",
       "    font-size: 1.2em;    \r\n",
       "}\r\n",
       "#sample4 .workerBee {\r\n",
       "    font-style: italic;\r\n",
       "\r\n",
       "}\r\n",
       "\n",
       "    </style>\n",
       "    <h1>Samples Incorporated</h1>\n",
       "    <ul>\n",
       "        <li>\n",
       "            <span class=\"manager\">\n",
       "                1: \n",
       "                <strong>Molly Manager </strong>\n",
       "                (theboss@Sample.com)\n",
       "            </span>\n",
       "            <ul>\n",
       "                <li>\n",
       "                    <span class=\"workerBee\">\n",
       "                        10: \n",
       "                        <strong>Sammy Sampleson </strong>\n",
       "                        (sam@sample.com)\n",
       "                    </span>\n",
       "                </li>\n",
       "                <li>\n",
       "                    <span class=\"workerBee\">\n",
       "                        11: \n",
       "                        <strong>Elise Example </strong>\n",
       "                        (elise@sample.com)\n",
       "                    </span>\n",
       "                </li>\n",
       "                <li>\n",
       "                    <span class=\"workerBee\">\n",
       "                        12: \n",
       "                        <strong>Testy McTesterson </strong>\n",
       "                        (Testy@Test.com)\n",
       "                    </span>\n",
       "                </li>\n",
       "            </ul>\n",
       "        </li>\n",
       "    </ul>\n",
       "</div>"
      ]
     },
     "metadata": {},
     "output_type": "display_data"
    }
   ],
   "source": [
    "module Sample4 = \n",
    "    open ChickenScratch.HtmlExpressions\n",
    "\n",
    "    let doc = div {\n",
    "        _id \"sample4\"\n",
    "        \n",
    "        ScratchStyle.FromFile \"Sample.css\"\n",
    "\n",
    "        {\n",
    "            Name = \"Samples Incorporated\"\n",
    "            OrgChart = [\n",
    "                Manager ({ Id = 1 ; Name = \"Molly Manager\" ; Email = \"theboss@Sample.com\" }, [\n",
    "                    WorkerBee { Id = 10 ; Name = \"Sammy Sampleson\" ; Email = \"sam@sample.com\" }\n",
    "                    WorkerBee { Id = 11 ; Name = \"Elise Example\" ; Email = \"elise@sample.com\" }\n",
    "                    WorkerBee { Id = 12 ; Name = \"Testy McTesterson\" ; Email = \"Testy@Test.com\" }\n",
    "                ])\n",
    "            ]\n",
    "        }    \n",
    "    }\n",
    "\n",
    "Sample4.doc"
   ]
  },
  {
   "attachments": {},
   "cell_type": "markdown",
   "metadata": {},
   "source": [
    "### Adding Base64 Encoded Images\n",
    "\n",
    "`ScratchImage` offers methods for loading images from files, byte arrays, streams, or embedded resources.  Images added in this way have the image bytes encoded into the html, so that if an HTML file is exported from the notebook, it can be shared without sending any additional image files."
   ]
  },
  {
   "cell_type": "code",
   "execution_count": 8,
   "metadata": {
    "dotnet_interactive": {
     "language": "fsharp"
    },
    "polyglot_notebook": {
     "kernelName": "fsharp"
    }
   },
   "outputs": [
    {
     "name": "stdout",
     "output_type": "stream",
     "text": [
      "<div>\n",
      "    <img class=\"scratch-image-1b8e21dd-0ce0-4564-8a6b-29dae310a6fc\" src=\"data:image/png;base64,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\"/>\n",
      "</div>\n"
     ]
    },
    {
     "data": {
      "text/html": [
       "<div>\n",
       "    <img class=\"scratch-image-1b8e21dd-0ce0-4564-8a6b-29dae310a6fc\" src=\"data:image/png;base64,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\"/>\n",
       "</div>"
      ]
     },
     "metadata": {},
     "output_type": "display_data"
    }
   ],
   "source": [
    "module Sample5 =\n",
    "    open ChickenScratch.HtmlExpressions\n",
    "\n",
    "    let doc = div {\n",
    "        ScratchImage.FromResource typeof<ScratchImage>.Assembly \"ChickenScratch.Resources.ChickenScratch.png\"\n",
    "    }\n",
    "\n",
    "printfn \"%A\" Sample5.doc\n",
    "\n",
    "Sample5.doc"
   ]
  },
  {
   "attachments": {},
   "cell_type": "markdown",
   "metadata": {},
   "source": [
    "\n",
    "Images of type .jpg, .png, and .gif are supported.\n",
    "\n",
    "A `Prototype` element can be provided to a `ScratchImage`, and all attributes of that prototype will be added to the image.  If the prototype includes a `_class` attribute, that class will be added to the image rather than replacing the unique class that is generated for it.\n",
    "\n",
    "If the image is going to be used multiple times, it can be split into a style and instances, so that the encoded bytes aren't repeated.\n"
   ]
  },
  {
   "cell_type": "code",
   "execution_count": 9,
   "metadata": {
    "dotnet_interactive": {
     "language": "fsharp"
    },
    "polyglot_notebook": {
     "kernelName": "fsharp"
    }
   },
   "outputs": [
    {
     "name": "stdout",
     "output_type": "stream",
     "text": [
      "<div>\n",
      "    <style>\n",
      "        .scratch-image-9e58cbfe-ec4a-4187-b08f-c04e5ba9fc3d { content: url(\"data:image/png;base64,iVBORw0KGgoAAAANSUhEUgAAAIAAAACACAIAAABMXPacAAABdWlDQ1BJQ0MgUHJvZmlsZQAAKM+VkT1Lw1AUhh+rUtGKoA4iDhm0OCiIgnSUCnZRh1rBryWNSSs0bUhapLgKLg4FB9HFr8F/oKvgqiAIiiDi5u7XIhLPNUJFdPCGm/Pw3ryHc99AaDxn2F7dCNj5optMxLWZ2Tkt/EAdTbQSJaYbnjMxNZbiz/V6RY2ql/2qF/9bTYumZ0BNg/Cw4bhFYZmG8eWio3hduN3I6ovCu8J9rgwofKb0dMD3ijMBPyt2U8lRuZvqqWW+cfobG1nXFu4V7rZzJeNrHnWTiJmfnpLaKbsLjyQJ4mikKbFEjiL9UvOS2e++gU/fJAXxGPJ2KOOKI0NWvH2ilqSrKdUS3ZQnR1nl/jNPzxoaDLpH4lB/5/tPPRDegPeK77/t+f77PtTewkm+6i9ITrEX0StVrXsHWlbh6LSqpTfheA06bhzd1T+lWtkhy4LHQ2iehbYLaJwPsvo65+AaUivyi85haxui8n3LwgdiW2g3gSbJcgAAAAlwSFlzAAAuIgAALiIBquLdkgAAS5RJREFUeF7VnQeAXVXVtm+v02fSJj2EACaEBIL0IkhRehNB6SAI8oOiqEGFzw8VUKqgQYogCh+gKAgSQqgGQpEkBEIgpJDeM/X29j/v2mcmAwImIZiwuNycs88ua7+r7n3OPeN/bVaqVKrk8xV/wBcM+H0+X75QiUb88VggGPCVSj6f3xcK+suVSrnsy+XKgaCf+gG/PxzWJ5stU85BJlsOh/zBoL9SqdA2GgnEIuqN40rF5/f7ImF/oVjJ5SsdqVIqU/ZVdCmbL9Mb/dMwFPKXS5VyxVcoVNa2FmmSiAeqk0Ga5/JlTpOJICwxXCZXhslyuZKMc7WSzpY7UjDoC9gUKj549VVXBRkxnSnTLWzzzSlslyqVSChQLFaCQR9M0ozC1o4izHem1W0syhR8YjVXgf9SuRKPBqrEhvhkiEg4wFWa0wlNmBF14BlWYRJmqEZDWGVQYPH7NTQfTmlSU6VqDAHItA0wf0oZikbuAlLggB5zTLIi9OlONbgU9MMi9akNQ+BFp9XJQDwqYcAcrCTjgURM6IMp1YSUhFcBNXrTlEpw749E/FSGrVLZVzQZAJbEEPTDWSwaSCbgzdfWWaIho3DJKUR7qgQDNCwWfTTJZCsU0oROmA+XkAFC0qRMxsAXjUqQ6jnqL8J/CRXxI114AP1srqwZi3xwDsPZnLSNGcEGpfAJ6/QDG/RJNU4ZGjEgNmbHN5fQEgblky/oIKCmTE3agxjgkLkb6GWAsobSmAClVEWegtjni8UEJTPJFWgToB69UI8e4YPTsGkrQqIVo9IrCEJcogcDmgkIarRblRmhIj64CvTofkTd+to6Sk7kTBX7oz64gDUaxPxBn1FQxhCjYH9lqQU8oKp8O0ulDs3dhzoAJKmgT6UKUwBHpgqCzBlYYZVxGYYSWEWLq8yeuKp5m8JxVTpU8sbiG4gZiXL6pwdOGYJTOqyvCVHI0DDBASwJB79wcDKDDQoZgj7xLk6VVSIXosnSv3wJJ/QIBFyAG9ediShQAvSSPlSgJXoEq4iKUalMF+BC1xCgU4dpo1acwijzR0ekrfRQlmEiVKeYlKfS8hjtnSUKJXufdNkJm/puGgZoAIWAK+SKOa5pKTrHxUDgQp1YLMBUnR+AZ66KN5sk02O4UNBHQyoDBEOjiWg9DaU6pvboChOkhEGpBhsYB/0704QCQc2LUYR+yF9bHQR9hkPNaSW46C1In77qRIADGvJNoWuCvGHDAPTVVAVQKQ64RInzBwG+OzMlORbzA2hNwRjCk1CbSlSgAXwzGRwLXTMqHTBPvtFWmjAZ8wmVTMYpjq+9g+ihGXIMH+rF9ROWzVLCWMBHwxjRQtatHpzKoIzwQ2V4iIYDDAEW1MQiCQP0D6HOziwgWGI+rgnioQSn74agUDqoyKQe6JBRgJg6CJUZGV/yEswFDcOs6RaR0A81kT1V4ZJybJd+qIykaQUyVAAWMFFjWXmF2oxLb1SDc06xaWYH0yg6swBY92Fo3AMcBuBVRmfGSBfoDnKmBhJGJajHJFFGVJtqEFHX+SvDXbrJkJzSAwM4zkzAHjowwQH40qcrsc41caAXE1YOs+DOtJkqSkdvnFKHzrEe9SDXZ1pvPiQc5KImjHODGzCVr3dSQQTIVWgKFCo7paMyFYSFRR2Yhw0pkykKDRnLWTwV+GZQJ0UaYigYB2gQSwjIjXWyA2bKJcdPAXzNlzAdOfCcdAh5o5R0xXCkHkDHVGlFfacoslSOgJ4TwGMyAAqvklUY2Ugp8ANcdOpgli5tEtYVn5QiIEQQBirPYI7ojjHEH57dIjzH8IEuE1TxPwxso1SwNpizCua4sT8DBZgQOV05bTKMfHhtpsdwTIyG9C4hqaGTrLImycYkCnaEGcYy9aK1+qQO82U86lBEOUKlE2YtlugTezL35XimJlqP/KjM9JExFZiRoqNyKq8fdWVNuMRBl2HJNzKcSVG9MVMqMBDX6AHvykTEGrhwDtZYE73h/WECtgBd3Njwplnm70JmmFYiaZndwSgqQE0Y0tBSSvHgdFkHhghaQLdYpamkz52iXJxazucPhSOJZKKmOt7YEKupjkUiYZiBK7qFQ/ihd/y4GZB4Y4YckYxxgDgZBTKeZc3U5piDaFgXnBFYhWA0Gq6uClVXh+PxaG1NjFDGROjW6QSsIjnAojk5nDxYWdKFVUanppsUUwAEqgEHHDILSSWgEMKIpGfMFBj4yPJIW0nhOktq7snMhPfcKx30S0ZBfkpVZEU9dKdfrzABhxrAxGB0gTJyCZfFKSzycb3gXpxlEDNQN6QCf7BLCXxTCHN8NKtMWYG0ywtRjQmg0UCcL4Uj4fLMGa9MeX5yZ0dLY2PTqB1Hb7PNdk19BoXC8VikTE5AD/RP2EdsNGdyNIcrVLuDFJ6ky8SvZKGisA8nTIF0BclRTRzCjd+3Yvniaa+99M7sGeta2vr2Gzx6zB4DBo+sqq7FyXR0ZoIBLFjQ5E1z6RxAnS7CKjm38zkt7eRjSkmYFOLHAQgNUwHmBZLwg41wDDhViQBpDszIx+K1YjJi53j8z7/agdiRmOKb1RYuJV9TQ0hLBp+PkWBHSqrQL2ulPjOHUD+6wybQC07h0nFAHXk2MjalH2KdYEUT4kpLuzwO/cAuuoN6VifDkWjkpReeuX3CL1584SlnOo7i8fi2I0YefOixXz7s6B133CESRv2L6DsMMGepf0UicfZEV3BuaUygJhlstSyASTJ5SoIhYoLv1Zef//0dNz//3OS21hY3BMTshgwdMXaXvcbu+sWdd/1isqquWMhSGUaYCFfra4OorcO9oTaIbmEfjE7nlKxrLy1bmc8XpLvy6TBTUqZHmsAc4c1UTf6K4EEiRLeWC8iIaOJ/cTpWoTkTXuixtb2EkMEU9BVDyNzNGDFD9I6Zc4kSp3cIgAHo3aQit4Oh0ClDMoxbGXLAN4y6KaEvrA8wT9ZudF4sBZnt3bdfdedtv9SS+iMokUgecujh3zjvwj333CuVxnGVSC7bOooMivkyGaZHb4zCEPAGWHRGCUM31oWrktEXpjx9523XT37y8TLK9dE0ZNjnTj/7hwcdehxMWu4uEQIkokaKaFJddZDOGYI5MlnmiUrhMPA2jMhwpDCIAbeBZtTVBGGPQjiBMWJYbVWQBVZjXYhjhsM/BU87+4eAqN61UFYhA4A4S3nGo0v6dak0KGPXrONl+5ZY0qutbmzmSv4qMMtI8hXk4BaHKXfSdk6wM10yh6C1ezgcbm1r++ElJ/39b/eIwY+mQqHw9uxZf7rnzhXLVxz4xYNwuelMEebIK+jTZUdM2GKfH9eBSjEKq5MyjicQuOWGyy+95Jx58+Z8/ChQa8vqZ5/665LF7+22+0EEpELRy7Dplv7RSCYFVjBPzMOfIQasX5pUlFdAD/jGZVEZHhiMZMkyDuVITvHBkAvm8K2JU2E6pQEKTg0mwzAa04I7HyThegFZ1qJcooT6NHTKzlW5+1gAbiw2yBFBCAA1UT9mia6Qq6gJveEtb/zlpS+/ONmVd1MUnj6C7vr9rd+95MJ80VIaZmvLSxtMQoUNZwcUoS6RCGE2dvMNP7n5pp9b6w2lSf/40y9/dj4M45SZHUPAP2KGL+y7QIJuxPSZHXBDQEkqDG580HrYcEjCIcYBP1iD4qJ14gyXOily+nMvuAwHLbi1CJJTo186pSPmwzRRfzSLAxBPZQUiLamDbGllCij0YRc+6FeIKGVUVk5lsJarlmdQogkuMguld9Hnn5148/U/sLmI6G6f5tqTt+192OCGPfrW9E9GMqVKW978Yw96Y+b0UTvuvN32ozKZArpJV8yHAbImAEahBH4CwVip0HH91d+9956bvJZdFA8FtquN79WvZof6RCgQSBVKBXh6Py2YN6u+vveOY/aOhr3oCgEUByCLvoMVUmE6KBQeKZ1hWBki5Z2pEpxwhSiI4uu4rG+yWLQT9JK2WYm6M5CyIEy3vjZES4KkNmqCSiSojQw0sZzsi5Z8yKIkKyMmD1GBUYlIlMACdZxDk2q4lNxcP994f+oQPziFGxLB88466vln/2Gd+folIqdt12dUY4KrNinkQWpUXpLKvbSi48WV7a05+UdHI0eNve/BZ8u+CAqKyAGdJmQddGudk1LHZs2cet1VF7816zWvjVFdNLRvv1o+veLkt5pJsVxZmy3Mbc+8uqrztdWdYq6LIpHY5T+/58uHH5PJZFjWAhxaDCzC3ZY4uBSyr7b2UmemBEoEXpwSvmXVOvyR9FXrEumc0rZo1N+3KQyrqUwJ3W3uHaYTCfKMc8YjUtQWYTI6My8U6doSJjMWPDuycs5Oum0cuqlyxqgUchXVgEVzHjIdhIeEKIQn6pk7lukQfmmYLwTfmjX9lht+5AJvdTj4g50HDq+No+6wxQh840KZZEMsvFNT1R59qzGEee1Zje3zrV61oqau1+d326dcKiIABmL+sIF/SCSiuWzurtt//ov/OW/FisWuvqMD+tddMKp5l97VWACduw9jJcLBwVXR3fpU71AXZ4gOvLtRqVR8aco/xu32xaZeA7B/HCxLd2YEmhww5UQ8mLVkHxBgWvlxUXuRqA6ax8RQfwagUK5JW220dvYqHU3EgvgPbcLg3cDauQ5q0BjJOAMR0LbA48OpdMb8Had8I0+6QDAcg4KzCQKXhpGtqVtKGA9o+KY58jCzDU38x58JrZqoz7dfc23/ZDRnYaEnaehyhfKacOjkbXttVxf3LhAM7rh+2bJlBANNVQYuvan4E6tWLhv/3RPvvPVn+XzOq2q0f3Ptqdv1QdJYlUXH9YTi5Vl/lSufa0heuGNzEl67KJ1O3THhZyRbBobTTjlSt1gjQbctLLknLUS0n8Y0tXrnGDy5Ko1Vrij0KeQUYaBMyIkeXBz1oiuJJvkPiDNavqhMUXx6q3YtoxCJCiq4WkmLagR02KK5hrHIjO9Sbe1eqSZDMgaNwIjmCIz+Wd22ta55atJfNCf8ZsC/Z9+af/fCPQnIUI9jhzVJA4xWrljywP/dXfHH/IEg8o3FkqVibtI//njeGV98+cVJXiUjGh43rOn07fvAxgeg/wAh6YFV0TNUcz298tLTixfNZU3uVBMlA01LxFFKk0fIj2vim75hj/lTAXCYOAfYB3bPMWKljuGjbgmNpp3EKovLFPLBN6kXC8XAR0sGoC9kzlIZfAWzWRZoqrFtXlKTABIKxaqqErhInCsBloVP93pS/sf8nbmgMtnnPXf+YsWyBerL5yMSov4fDw0kDa1P7N2v1jv3+e7/069fnDK5va1lwbyZ993z64vOPfDnl5++dMk877LRgGQU53bM0Ea6/1gRe4QP3L1P9enbrZdBLpueOf2lRFzugykAgumW1xtQoO/MS/vEig2CRTuD2giQA0AGWgbLgasBq4qG2lCV7TTTibT1lZmdwC25hdQvYkBJkQRV6YthpPsWgds6MUWXFGtgShiYOmoRKE557rGXpz45791ZcDls+Mijj/3q3vscUFMVKpUKhG4HPf2HQvEnn/jz9799otg3Om9kv7371uAEvPOPJsLmoo7cFf9aiF9yJahPfX1Te9u6bm/Wkw4dVH/0kMZkOPjx5vUBYkJo+zUzlsxcm3IlXz7y1N9MuLtYyKGInJLb4PTJIBEGCremtcjUmCCXFAzMUyUTQZSOrAlbsU0kGUpjvaDH+7e2F1kVIxiFLicAhiXQYyk0VqTw+WqrZVb06zSXJC+dxhi0wGEoAhGNLWsKFfPp//nRGc89/SitetJBBx/5g/GXjx27M55x5eoMWRDOJ59LnXTcnu8teMfVGV4b+/7YgTi5DUQIaCbMWv7Cinbv/COIlcRZO/TBsyGqjQHfI5o/sbjlD++sdKd9+g54/MnXGhoaiBeoJiDgfzJ2eyAcIgTqDraLQ8DtYqeLumCdsxuxzJ2UqXdjqL4mhMPoSJXxWgijSLrMCa7cWZZDnw4AHctCx9FZXDxdUOKyYE4ZHlFTDfsKBCN33nb1v6MPPTnpkUMP2uOkE4944YXnY/FYbU2UJlf//NJu9MlGCIzMdsMhYtSjhzYSS73zD6NRDcnxOw/cs0+Ny6k2gRAb7o4VpDsl3rww5dloVNgBEbNGU8HBUj4tBfAWoA9E8k4uQbdvMmM8sPMrSAjxpNISEKcYDQssRtCqmpaqZAEaK1P0wCZsK4py1JwDEKdcp3k9QoEkFJTCobWrlz728B+Mzw+hQiH/xMRHjzvqgLvvvKmQ7/z5Fef97c93eNd8vmOHNm1TE+/2JxtCsNA3EcFr1UdDXlEXwc+ODcnvjhnw3TH9h9bENsSnfRS5UbapXZ90PfzXP5Hvksk4ryt9N33FFaO+mDglYMKYFl2V85CqwgHSwpFQExgVt21NAM4cu579z77czuIrEdMCDzFK5e2GnLTb7igxBjEEP44Y6AkhMB5EL8lE7ImJf7/0omOsK19jLDS0Jp4plt5tzfz7/Pv2G7Bi+RLvRM4n/sOxA0FtE3DCEbXkiq+u6pjVkmaBVhsJkaGis4Oqo+Q8SHTTse+iSDAweXHLXV1eKJms/ts/Xhux7bBETCmNu62Ec+e4tb2Ef5ZgqNd1axYHTo6UdfeXbDmF1tZU4YXCnOJvkApeCDy1ZMWC3DCSlBHOx4mX1FoiMTS5KuErAcC03TMpwWWLZ7smQHn+yObvjO6PT//RuEE796py5d3UE/2EnE/vsC0yNoEIqjWR4CED6y8e3f9Huwz69k79Dx/SOKQ6Bm9c+uToQ0hxp6ZkVZevS6U6Xn35+Uwu2JESGOg7EOmGUpFEQEknLgVTQB5cAjek4oAmo0GVuYpyk+WrZ7vzg5VwrDUT/LJuFut6FElLKkoIsHzjjrjIgBQiWJOkWro6rqOO9rXGoY/1C+t7FB/WweKiHftfhiPuW9Ml0/XErC4a3X9YdWyjnM8HiKZuLLrnm+WV3frcbIQce8XCY5qS3rnPN33aK/EYjl6+HqwUGiUGCVyu2+7ZcZxjJWw7jy3tetSBy0RgKgMgawJKCNr0gMwsp8KTs4C2u7X04lJP5gG4CI1KSM8NT6f0ro8KxQTmRoWOjg5XAZvFM9g+ghDBjW5fn2Dp/82RzQRbVwfCTX17dP+RDclP4qN70uZE/d9oZP16Acx7941SsYC+A5Fb/YCpU01wI8lBKlSTQAwzIJJysD6354g4oDIEogq/QGJbnAFDWT2i/jh3rEZyMTFgSjRGegwGXEjF4Q4LCLysyFPu6GhVrwiARZlr1kV4A9aWe/Spvnzc4KOGNGINrEjxGCPq4iisV6kHMS4M0YkexiJ22Ydu3cedfuhH9VnH4E+VTm82gsXmpG0UG82b9/ayZcvCIT0YgIsnZAJoTZXuYqGmzJuUFFgA0FmJUzCAlWAqQlyg2d1/idBuzevgtLPGwzbXrFTWREO6dkGYA9mR7e1Rg29lYiYDiEXA5In3z5v7Nn31joe/0L9OY76f4KMmEhrVmNi1V/UODYloMEgf3jUhLgS17Y6yVCrZYqUlX1ydKaxM51dlCktTufc6cgs6cgs7c6uzhTXZwkou2WdpKk/J6qwqr80WUsUSSSc94yEJcyZCu9Vh+K0fb2OIVqTIL63sSJO7aEmcHbrNtrvvsRtaRqfkl+grB0CH/8BhgCfrMgZl5c8UsQycDNkOH8vy/VVJfJQ2dWhYX6M7a0Rv754wvbgiRiW+wzYldMcw5E9uux8XRi8YCnW4ioSSydh3vnXcU08+DH+DqqJoOjq4gbN1Crs2W3y3LcNncWeuLV/MFMvM1vJer9oGEr0hSPBiiVAbDdaEQ3z3iUdQYRLKBstZzV1vHGF5E95aPmW5t+5raOh13Y23HX3MUazC1rXmtQ7Vc2ZSUxa3bZ3l6qQ204AIuHAYVYmgvHTKnqEL+OprQ3F7biFXKPdpDPfrHaambsggAJpxmUoFu/OOiLCGaFQPY3FKBS0oLNVFmM4mqJBMRP/16j/fnPkvmMOnk/mQnHz8JKUy5qyWpnN/mb/2njmrWNbOa8+i3R2FUta2KjcWJogmMIjHay+UsIklqdzctuzra1Ng9+KK9oUdOcyiIRaKhWBvI/o3Aw3QgzvNZNJ/++v/FQqlUTvu7A9W1VRHCsVAvmAOI+jdYFHUtIwmQuTT/oLSSD7ghrRittvGVUSS1G1hf/DMb4ynKBYljOixFJyzOX1fIi4vhWBkMhZAOKCcRQMjcUl3EUKhdWvXPDNZFoB+kYYPq45/iHc3YjIEauQ0py3z4Pw19727em7bhywXNjvlShXkMXVl+/TVKQTcLxElDWOK3uWPJebbFA+/uS7FssMr8vmmvvj83x66b/q0qUuXLF7XmimVuETFQK6AJ49AxXIomYgAI7IAK9CTe9edQS3TiMBABxp4JEq0F8RiIWnPbiAlBiCH5ZiwjvNCzemozR6fJ51CDMQcfBShAtnEouHFi+addOzn0+lOGpKGnve5fsTYD2x+Oa3HZeNPp65oX9T5vp36/zI1xcKHDqrfr7k2EtBtGa/0ownOZ7ekfzljyQcm1U2JRFUyWVVVUx+JJKprGnr17lvf0K9332HDho8cOGh4NFFPUhoMsmyypas9DkTMqEoE+vcJg61/2qwUzh13r/tn9mAT8YRgQD1UnnBLktrWXkRkMEBwx7VRjmwVBljRRSIXffOoKc897rjBBbM46ikDvA3zfHJJy6Pvreu+2fTxFCCKhkLJZDIajRLqOQ4SukulfD6PCkgLlCboeQcOsMpsNlssFrlqrTeI4BBdQbsxXK/oowkZTF/T+fu3V/a0g/9IJAG9+ww88EunfOXkiwLBWKVcwP+4nynk8tqb0236WNA/8500Gs1c3F0Ft0eh3W3vwQU9JZfWM6AyBaYLw8QAyvFoWFYkEpvy3GPfvuBoVTVCxS7bZWBDNAzusL4uW7x99oo31nlbux9Kw4cP33vvvXfZZZd+/frVG8VisdraWr4ZA/TBGsQLBYVniCbgTiHfUDqdzuVyrEgWLVo0d+7c1tbWVatWLVy4cMmSJfPmzdMDOh9Gg6tj3xszgKC1gTIgX7jrnZUz1sjWN4pG7bT3d344YZttRqQzGRel9QioVN03qF/E//b8DD4H6HFJ0XAglZFdYgFEBdZsJA7uticCwHCoRkuMgHwUCUFyfoHQrTf/+K7bf2nDicb1qrpwx/6Eo6WduRvfWLos9eG6CbInnHDCBRdcMG7cOLD2SjcfIZXZs2c/9NBD999//5w5c7zSHrRtbfzCHZvroqENkQGmTBD85/K2fy5rW5zKf+hS5qOoT99Bl4z/7RcOODifz5Gn4mzwJXRA5umf815mbWspFPTVVesZSrA2DdPiDVeTldHLKQE0p1SjGcecE08gFYZwX+G7bv/VDb8ab8OJThzeCzH8asYScnavqAc1NzcfddRRZ511FlrvFX2ahI969tlnf/nLXz799NNeURcNSEYvGt3cJ0Hk/M8ycMGMxIFEa0FHdn57Ft1qyRVwTcKnoq0Rr+qHkH/8T2444aQLyuUc0FG/MwPsfv8b76RbO3REWEAALLWzumuo+8Nua4kY0NJKIJfPyesHabIA6hO3id6ub8J6dXX86p9dcvut17kSGE2Ggz2fJXG05557nn322UcffTR+xiv6L9KkSZO+853vzJo1yzs3GloT+8HYgdGggtyGEGIgh1G+Yo84oKLENtpiEyxiWBLidZen8/PaM/PavMc4HIXD0d/94fldd93Z7yvoDqWeoPH5Z8xOt3eWCKoACujUc/gCN/xgKcjK3VOkEEdEAMAg0P0a1nX2k0r8EnXCrMTLqZOO32fOO2+58T5AQ4cOvemmmw4//HDvfAvR6tWrDznkkOnTp3vnRkcMafjq8N7//ljGhpAEAblj2wuxbz3U9PTS1r/MX+MW0o72/cIRt97xUKWsu5i69VKueI+luLtdoMwFtB5AwZqVlzy+rRr40F5A27YfNUFf+xaqqfELhWI0VnvlVXf07dvfDdaTdt555ylTpmxx9KFevXo9/PDDI0eO9M6NHl/YQq6J1XrnG0PggEMGDz64INK/fElLQi4dMqjh8nGDd2pcv6P3/DN/nzljaiBIDmyP85R8Wpg5py9/ZAHWFrraH9WCS0mIHD0VOOAb2YJ7zH7r41wQuQklfDLZ7PYjd7/i57epux604447PvbYY/h973xL08CBA5955pk99tjDO7dV9B/nrMrYo7ibi+QeWPclI+TlJ2/bG3Rd+T13/wbMcdroMWWB9g4pM9Ig/KLdTp3dnUy8kPvQDPG4D7VJYy0rVR1ERV9EdgIGB35/+YnH/+pGcjRo0CA0rm/fvt751kHYwb333tvY2Oid+3zvdWSfW9Ymzdys5MIyLu6ood5YEx/7y9tvTfMHyGHsZyzYCkcgC5pQFLjtSS4KSaBBFtVmmUY1sKaQCO6en9BmtU9RCEFQHZtIxGPTX5v6yEO/t4E8mjBhAt7fO9maaMiQIT/+8Y+9E6NJi1vacsVN8kMfR6CERzp0YD0ZF6fFYmHypEci4ZC5mbKsADRxL0py7EaB/Lvdo0fTkZ+8P8c53cV33bFIJlwjGJogORxU2ResqYkXCtm7br/G9kY8OvLII7/0pS95J1sffetb39p///29E+JztvDssjZtSW5uAsZEKIAduNO3Z8/wB+QwCgUt+0Hcdu/CirRp+1E96BMYKEEbXDKqI4u3Zf2sRRkRxsGHyslkYsnieZf94JuHHzzm6cmPuDGgSCTyk5/8xDvZKomV4I033hiNSjEdTV7yqRgBhFPfoT7hNsbXrV0V8hel7vYrYEt4ujYYcD4WCdQGHefbQrGg5xSLSGcVmamK0QSDgbq65MsvTDrtq/vfe8+E+fPft9o87bTTNm2dhQHec889LNNwETNnzvRKPx0aPXr01772Ne8EaHLFl1d16MmFzU0gHAsF3NM0ra0tJCyYhW4g41i4hi6j1wDtHE53DIA4IjBoyWChIqZbCjTxR6Nxqv3p7t9edP6xa9euUtX3Ewh6RxtDpVIJRE499dQ777zzyiuvHDt27Le//W2x+KkRS7OeRvD4onWsH+WaNzcRdnvFwxwEA+Tx8joKnw5TNz+tsPQ6Fo3tROImnrPXPEgAer43FI8nctmOfzx639dPPOCnPzk/m82o0vtp991332233byTjaH//d//ve+++7wT2/W84YYbfvazn3nnnwKxJjj55JO9EyJBpvD399aa8W9OAki6dM+5VFVXB4OsXHVPX9vOII4uc4FvJF+0IGoeRtbAQgzokQSm4A9EW1tab7lh/AlH7fqdC0+e9tqLqtpFPZXmiCOO8I42hhYsWHDddd5mRk+6/vrrly9f7p18CnTxxReHw9JNR88sa1uayndn7puR3O+tItFENu9PpbW/ENAvBfBC0jUhiFGAOJWk70EV4qo4RmJ+f/iFKc+cc/rBv/vtVSuWL1JPXbTDDrFzztEj4N00YsQI72hj6KWXXup+zqUnrVu37lMNBkSC008/3TuxrPGVVR1OKTcX0RfwdOSl3clkTamkn0sq3OJq9HBQF9z4fbwQHp+o65a+cVYBoeiC+W+N/96pZ51y4LvvvA+IWMx/2mkNjzwybMCAiFdktGnr3qKzvg+jjbrfsglEwta7d2/vxOd7fW2qUCpvXhMolCsEeQ769B1YZC1rv7exLAhPY6+2KtiPzSG3GxEJRwi2Tzz+yMXnn3DaV/d8/NH1rhkaPDhywQVNkyYNv+aa5sbG4KJF6wGKx+M9J7PhtOOOOyr6/xslk0kueSefDg0YMKBnJFiWyrXk9YoA7/wTEz11FkprTQDbDN8hbq/qkQtCzZ2XJxK4vU9yHi5GItF3333rjFMOO/v0o5584qGekbZ379AvftE8efLwK67ot+22UXIpnNjq1euVt7a21p6m32gaM2bMN7/5Te+kB5FQsXD1Tj41OvTQQ70jny9dLK9MEwa8009OOJpVmQKLDI6Hj9ixXNIP1nEu+vUMvgl7QCYckWKyNquqij36yINHH77fc88+6do76ts3jNZPnLjN2Wc3xuP+TEZP/0qSRV9PAdTU1KCz3slG0k033XTGGWd4J0bHHXfcNddc4518moSRoTreic+3PF3YfAagIDBzrW5n9u03YODg7Tp1l9CWXOg8uJORus1wfFM8Hrnz9pvOO+cr69atUZHP19gYOvbYuj/8YfALL2x71VXNQ4bgmuy3xHHvQ8xobV1/67WqqoplsHeykcTqlBXAjBkz7r///ltvvfXpp59+4IEHeubpnx41NTX13DTEAix2bgbCyaP7r6ySAMbtdmB1TVMur19ca5H7zMvtsYjuClQngoVSsK2t9e7br7qt68ZWnz6hL3yh+qCDqiMRf1tbqb29VCgAvXbuUik9jU0vhO50uvyHP6zrlsG+++773HPPuePPFh144IHdty136VV18ej+H/U0ykZROOB/cUX7b2cpk779D0+PHrt3sZizzXxtP2srQo9eVULz575x8vF7dKMPuIlEgDXz669nZs7MLF9ewN0jqo6OUipVwgXV1ASSyUBdXZBcSI6si3rm1J8tGjhwoHfk02OToP/JTYAe6GeKPV63w8idt91+l2IxT46r59Rx+OgvREAIhYPLly1atHD9zzzBdMGC/IsvpvAwu+2WPO64uvPOa7rggl6XXNL7wgt7nXVW4xlnNBIMzjyz8aKLevXtu/43Q9ns++6FfoaoZ/acLto7JD6xBMB6QXt21ro0x4ce9rVAMJHJ6oZKwHZ3tBvKP+T+5VLuoEOOvHT8L1yzblq1qnj99auPP37Bvvu+e9hh8y+7bNmzz+phOhryjU3k7LV/hASvgc+3YsWKTOZD9ie2fiIZ9Y5Qo1I5vzmWAuDCso4Vbp++zQcfenwwUMB1syoj20zq58S276ZVXwVAC+d845Ibb767rn79raJu6uwsT5uWvuWWNcceu+DEE9974okOe2IK5xMMh/319et/ubhmzRrWrt7JZ4p69erlHfl8maIed9BuzCcgGqeKZfdc2mFHHD9k6KBIGN31F0u6HaYsyLY27cFb7UZwXD7xpFPve/DZr550em3thzzv7+iFF1KnnLLwBz9YSpNQSPeEhw1bn/a0tbXNnTvXO/lMUU8B4H9a85/03kAo4J/XlnGPph100GGlot4tGQ5pCYYMcvmKnr7CJbV3KoFBCCRGqVSOpdoNN//+yWf+dfY3Lqyr+8glFZnPuecuXru2SCa63Xbve7TtA899fFaIBXzPDAIj8I42iZAdUnx0oZzB0GHb7jT284ViAcCj9uKOfF5vb9OLtok0nCMGJIMM7A08+XQ6N3TINtf88qbJz0779W/+ePa53xv3+X1raj/4NNXjj7cfddT8Bx5oYUnsFRlNmTLFO/pMEQuxRCLhnfh87crWN90EIsHA88va3mpR+D3rnP/Xv7kuGFDsdC7H/a7GP3WGIioWUV8TdO+HZ0QMAinVJInTvlAwWPYFsjlfJpNfumzp229Nm/rCU48+cl97m/frMEcjR8bmzs0Rk90pa7GpU6eOGjXKnX5WqLOzc+TIkYsWeXu9e/erOe9z/TbtRwzk/vPbs1dPX0I2tcu4vf54/6RIOJTK6OfWxIDOVKkjVU7Zm29VO2avlXQb0QRk3QwgeOtxK2RTwhqKhVwgUOnbt/+XDzvu59f85r4/T9lrn4PVsotmzcp2ow8xk0suucQ7+ewQerPddtt5Jz7fvLZsurgpiRCuf12uyMoL9OPx5Pd/dF04HOtIFVvaiqGgfjaMEaDoCEO/kMHvh0J6Tki/prS38KuLkGRDJTIcauuGsB4fKgUDLIaL9Q19Dv7S8U1NvRa+N6+zs01x/N9o3rx5/fv3/+88futIuyruR4SfgJYuXfrUU0+5YzLR3ftU10ZDG2UDoE/wuPnNZe91aD10xZUT9tz3sEwmC7CoeMp+0o2W5/XscyV4ylk/SFgKD9uwjnw4KBV1czhmr1ykRPBqn06VyuSwfn9ej275x31+n8OP+vohXz5u2PBRtFqxfPEHHsafOHFiU1PTrrvu6p1/msTqj9wXFf6EAigWi3fffbc7BvehNTE+BsB/IEYF+kggsCaL7i9zrv+UMy894+zvptIZruIhUGqX1xIDABYw/f/8V0c0IojdX+kAd4RDHAZ6vczANkpJVWngPrgtWiqLsvdQRyPBUhk5Eb4Ly5fOe3HKU1f8+ELjZz2dcMIJv/rVrwYNGuSdbz6aPXv2r3/9a9Z922yzzZgxY77yla988l2QlStXEgbWrvXeAFAVDo5rjJ+8fb9kKNjz55sGpETN//LW9orBxZ256WtSzy1rdTdeDj3sqz/66W3VVaFiwd6bZU6eIAy89BMJ+QkDEoC6sHcMxaL28GFZr8Om+ziWYWs0vRXH3nFGS74jYf1KmxQqEtZCms6K+ssKvoa6GJfOPPXwJyd570LsJuxg//33HzJkCEgNGzaMdJs1Z01NDXipi40noL/++uvvu+8+gg2nhx9++AMPPBCPr3+/ySYTRozbfP31193pHnsdsnzV0ux7bx65bb/RjckqPbLiL/sq2VIlXSiBJN6GNH9pKkfIndtGsSeio44759Lx18bjERwKqAIdUsrZnzOhBqji8DvTJf+L0zrUxAyjoU4vr0QeZKV0UZ3UiYla6wNaej9giup+Jn05BwVHXCKGJxMBZLB44buHf3nfNau994x8KAE6IqmvryfnGzx48E477dSnTx+EARE2RowY4Ta0sUj6DYX020P3+6SWlpYZM2bgo++880539zgajX7/+9+//PLLN02QH0o990QP+fJXLrxo/NdOOqht3eracKBvEpsPFO1ll532wlGOPci7aMDAbc4694cHHPK1WLQSi3i/kuxM63dhAIvi8o2nqasOrmsr+v/1RipfsFdRRwO96kP0FQ3rp5SoNC4Iw8EOnMMB5Yy9qBlDwXYQKZEZAQATyRINUf/a6mBVMvrw35+8+IITOjvaHEMbS9XV1clkMhaLgTj6CPrICRePDNrb21tb16e/SO72228fN26cd76ZCFf24IMPuuMxY3f/+8Spb89+48orLn3+n0/qkdgPo2g01tw84PN7HLjnPkeM2GHXpqbGjs40gAC68xlk/cBIpoPiOjeesPfh6wcaXABB/VAAbxPWW+XcwhjoOQ0F8TZCHzeFI9L2RUBvv9Eqzu+Px7zf9eG4yFwbsaGgrzMTnjbtX1f/77den/GKsfep0Omnn37DDTf0vIe1ueh73/seQcsd9x8weOLkaQ0NDetaC7PenPavV55ds2pRKBxrbGzMZCvVVTi9AG51yNDhTb2bI9FaMv2OzlwkLEevJ2jtVeZ4GzTUOW2QRJuJu3SOJPzT30qBMn0BHzJBVlWJYFtnKWTPRVMJP4N4yHoIxXwQAD0W7QWZ0nr7jQYHFl703hD3675iOdKydsnRh+3S0nVbbXMRMz/mmGPOPPPMng/4b1767W9/e/7557vjRCI5cfL0vs1DO1OFYjmYiIeTcT0niMtlcep8S101qlgqFkupNF+CXnDbX2WorQqitYAOMsDoXq+dzugSPWAN+qE2uOsdcPp1vP64UyLmRwDRsIRBvCDGYkSIoWK/DjP09RobHJcZV0C/TbJlBdZJ5fraEGP7/LGnn/zr+d84ljkMSEZTxZLzmG5W/5Hq6uqI0sFgEOfjfi2MDg4ePHi33XbbZ599+vXr59X7dGjSpEmHHHKId+Lz/flvz+w8br91rRnmjpo6x4suggkL2NYOvSm6Jil3TaQEVrfKBdxejeHGuiCIAz1pDToKSpziM8AWd0QTWQCldI2Twunjs+J6r2IJRaaG03f64gD06AjQERVNkBnHpvJyczgo+KAcx1XxBRYvXXv2qQfOeWdWNBj46a6DqyPBtlxxZaawOlNozReJYKzUayOhsqXPNXrDRqgtX/y/d1c7EZ199tm33XYbAQAZWMF/ld59993Ro0d331a68he3nPT189s70kAB9C5h4X9SQRADFoQBoJThup2CptJabaHNCAAYUdZ1bXoMApTaOtBOewZXz3yWA7gh3DfKC3Y61ytedNnJCmQ54EO/aLduIquh3QpWiiKnxDcNJUxtHNkPz4Kh3/z6StCn6pimZHMykggFmpPRXXpVfWlww0nb9r5gVPO5n+v31W17n2yfw4Y07tdcu1vvGqRFE2jJEr3fbIugD2FhZGXeic/35psz5GO7/iQASQqwsKqCO2aNlxca3o1FuQ0CJNW05hJ0CplcdeCgo9gzWltTZX+KCMVFqdFlIjCKTHvEhSlQW31oVPP0tnKjJu0t2dPzFFTmCiVwBmGYVrMSiUbnzpn98F/0O5l4MHDkED2yKDUhWbJ3i/HRQddxzr5Z9EeD+mWr+rLVkBLbLUQkwT0fQ3pvwZwKgdNumUCETBAEGQ4kiXwFRw8g6Cu4ASOTRQboEsKgFR9qckxzByMdofFk+VUJ4LSHIyjV69/tp145+wMFCBAJO1PA41NCe72owPyPI1dONfVuv3oNR0Lpzo6fXn5xJqN7QAcNrB9SHevi/GOp4mOJg6G4M9LNXG5LvtNjhx128I58vsUL5+eybdFoUPPVClXaRsINaCgJhTJ67SJrtcUHfEBc3/LbkpDe9KOnnvXGTzoEZC6R69NWsRjTANii/cFBqZ39EB7HovaKKrI1ZEMd9J1vunYOx54iVXCmB50qFfB975JznntWr89uiIYOGlC34YGXIWJdLoiU/2OeE/0vUM89xKVLF8+Y8UYyEUHPnNZns97GTDyqRBw3jo7hiyCXlJviCiuQAVVqghhy4uO5CuUs9rf7CLkgHosESCgRCNcYBjAJDHRRsDcFqSOChn1zFZSoxtj0zgFioCYHsWj0kYfve+Rv94sRn+9rI3rXax9xgwRgLCn8OEIRPN+3hYjFXc+lNQsaMgtAJBaCCU5COYjtF0gv3d9O0M6YQNfvq5mR/sKTKhAzKFRlmxB2AIz4G8Vd8zQqRzIIjW/KuMxx9/T5l3DPKYU0ZjAnQ8ppL1eo+nQUXLW65cbrfupanbBN0269qzf5fUyE3824tbAJNGLECLJe78TnmzFtajZb7ExpJ4cpU4KGtKfKq9cVkYSLxnyYLnbAqZs3+KC+RAUdWygGOuddtMVpyYt2J5y2cU4NiiQFAogSUF1AjOra3lEGUc2lTJQIIvNIYb09KzzhN1e/t0D34sc0VR0xuHHDnY8j8dDVAvS3rABYf/Tc4Zgx/aUVK1aAC0yihU4dyWSYIgsxp8v4BncJcIGOdCYAYnpJpYKrkiLWENqVU5KK16JbZKNp4kD4piVGhIRBHHAdxFyiHpf4r2s3VdEcMdgViYrhA8HIvX/83e0TrqYEkzpySANXNwp+OqN+t78K6X7QlhQA9IUvfME7sj+a8tas16PRCFrosAI70MSBEwMy2iTWi5XQZj6dae+2CNXINflWGLC/7ckx8EbsZVgdKdVXER/nc6T8tgUEHNQQ1rrBZLJBgObvTDz6ZTZmgUiALRwOLViw8JYbLteYPt+XBjVsW/vBt5ZtIHU3CofDW2oR0E377rsvbHgnPt87b79eLivscQwIUsfuv1KpZF0xGSMgDAguews3QqIO2BJiwVRh2ZwPUFbZpoNOqUcl+mUpQATng7ic8nHZCYYKlHDKSAzDJU4RCQcSiz90y01Xrl2r/efRjcnjhjVtUN75b1QsV1gNuOOokr4tLIDhw4cPGzbMO/H55rw9o6ggKWXFvVCCw8CnhwwHKNF1A5FjLECS0ApXDjxfVJzAu6DyNFemZH8+HQPSYgwQnaAQIA1wajifbqIjhqEaY3fhI9JIxJxw9IUpz/zlgTspYRl1yojeMLQJ+MMDRtP9wpja2tot7oJQgp6rgQXz3gz60jVVIcAhGQV21B/cmKv5cDRcmAAxMKKsoCx/xTVpvLJKHKyzG9rQFmkmWYjREN/EBVoiX+d2cE9yZLrVJW9jqadgNTvQh1Ou4qgzmcwNv7rMSezLgxqak1H3eopNoLKt8xwRA72jLUo9VwPLly5cu2ZpLBqKkvvbH8KUUppPJsaCMcduMeySFNDHIIS9Ty8/kaJboFaqWtadXa4JUorwUAgE6Ml8bEday2OEyUooY/v+NKC9IoYcjrfM47CqKvbQg3eRosHfoKrogVp29bCRjSS4seRW9Gm8Qm4TaOzYsd6Rbqmnly9bmM0JJbBCNdFacIAIwnwjCZQS1UTTwRCsyFApwc8gIT5gaG4mQNLotvcRmNJQKqHa9ItFEIHJZJEKSFCDXpCn5CzF1wrCTE3H0VjsyYl/u/aq74gFe0lclf7OpzvbaKJXFg3dobumpsYdbFliNdBTFebPeztmf4oc9AFCiNtTPIQEDALI0VrSQhTf1ccISH4QkgUG6TtQF4p64XF1IihpBUlsffqTzQReDuiFUlfVhV+IEpXpgQkzAKWnXAmSF195xcXFot7JR+I/6pO9kZ6eM/YCbnfa1NTkDrYsNTc397z38PbsGXaDV0ERfQUK9FI4ujc625+xRB5yFZYFyalE7P55QXdz8Q4GqaxH+8fmlPR6XHSc9rRWkXyZpMoBZkE5kgjZq9ftmV7d6JE7C4Qf+eu9S5cudJwdPKBOwvkExHBZxO9k/v6nlLcgJZNJciHvxOd7b/7b+XwWWGGz2vaTcZk4cBcP0HctdAmt5PtdwRZlB1WqETZk5pbUUJ7VH5Usr24pYlA6ojYCxSK4Zn+dSfIEFOVViNr8DugjN8TLoiObzU2a6L0Za0xTcmRDctMS/24KB/z2oziP+vf/kBfPbRHqmQitWrGkpaUllREyuu1alPqDD45IArAX/nMJ0PlGiXNOWd2dgIB+lAqMYEkTSkhD0WY5fXqhNlURFOIlXMSibqdCmNKSEi5ZrJeek+4uWfze7Le8J2f2b67rcnqbSKD/2urOP89ff/d4m2228Y62NG2//fbekc+3du2q5csWl8rK3SGSEQoJpMQAtB5s+K6rDoKbOXNlKwCNPAq2i0cFhz5G4HJswNfagfaoPNIg9cRe6B2nZNFcvTMSfTk74Jgxg8HQ8mWLUik9ltMYC42oi2/aystRJOCftrrz2teXdL9ktLGxsecKaMtSTwsolUpvz37DtknkzfN6UkmOGliAC1jtXpb8BTC6XAbcqJPq+iO+QIp4sBgloxZolS0hNC5zARQRA7LiGwugElVts4khLM0q+QolNSuVvcdjkqGg/hLbpuJPXF+XK979zsqeDmzUqFGb9qaDT4OwxZ4p2btz3gBW558txirMAjkqz0E8Jj3mmOmg1gijULAHqOxOLQ4c6NBgYOQD5ZTZU8J/FnLRfUtaZTK0x0kRDwR9tzvq+juqoZD3g6RUUTcUFVw2nmAmWyzfMXuFe5Kym3q+MmCLU3Nz/54vHXxr1uskfsxYOmc7wehmLKLnaFF5YGUhZWFSKT9wcUwr7ACx0UR+3rwQkNIWJMnclexzgj+ihkVjt+uprTHyH6oWCvp2HZmcSk1NfaJRPYjZni+25AjlGy0BdL8lX8TzvN71NzMdRSKRo446yjvZCigYDIwZM8Y78fnemT19yeKFuBzwILNU6mk7/iiycwPIwJCVsmazlunbzV0ugmFXJqo6WXtIXa8rRlbmVSQ0oJdw5IvczXpqytm5ThlG0qqU+/br369ZTzuT/LzVku7ekNpAop9UoXTTG0vfaf3gr1n322+/nm53a6A999zTO8LiO9tefmlKqRJi8SRMiAS2sQxoLGNJXlBoYHR/wtZpLcR8o11vxbIQq5vwQOmeLpSZ4IjAVxBbkos7wxRU1XYWcEcUovu4PEWVSrmmpm7Pvb+oaz7fq6s6iEYbLgGGJGv605xVH3i3taOeL07aSmjvvffu+eqLpyc/DN5y6y4clqSpa1t1a4xCJTYWkIGYFAbPgxQ4xhTIkXBT+js+Zgr4H0DTNgVicnIDYqfpEIgjRrvBJqnSBfJw76xkyGKp9MVDvD8hiRbPXJvaQCOgGjHjrndWup/uQ029mocN935KRs539NHr/xbEVkKf+9znej4GOfWFJ+a9OzMWjRBUOdXeDi7E5IFTYlHVqz7Ur1dYuNlfntUOnT1NyzH+hvogBc4YBPotS6FAL56xpQQhm1Nwp1NLmGQfCIO+nAy4ymk+n//cqF2322G04+nv763DF/1HCUSCgWWp/DUzljy1xHvCORyOfPeyCd0hHfXfSvZBP0Annrj+L1Dnspn77rmuVLGXzVscRsfdTS7gAjoCYpfnkPevSereGdXcB20mUJPsoPe4LK0HuCz/RdJZrrR1lOgIP4MAuESJjADUbVUM9HSv0OGvxONVp55xkcYhOWvLzGnNfIwRcIGsbMrytitfWzS3bb3fv+zym3r3bprz9jR3esABB7iDrY2OPPLIurr1P1uf+Oi9L7/4ZE11IhSSJ0FHdY9Xiu2hRFQgJa2pDkbDOHOprPLUrkdauhVdXgfRgDIXECOSwPvbzoTaUI75MB4H1EZ01MFN5WwBUi7lDj3sqzuN3d3x9PTSVhhA0u60m2iI4jPk3xeumzBreWfX3/EhnF94ybXHffXcSY/9yZVst912o0d7JrW1Uf/+/Xu+0Ay69qqLV65cGgiE0UnmTADosD/5DgEmyCbjQZfRYAQQeApDLWmFJyU4GPtjrEHd1++wBy5kFBEFEENRoBNPEIbz++6RRT4Ije504z+aOOHEM1XX3kfxu7dWrMrkWZfh5bAGVD4S9LfnS88sbb16+uL75652NaE+fQdce/NfTz712wsWLHxy4p9d4fHHH//feTHTptH48eN7Lg8XvTfnqp9+C+XUX/wFK/sjs1gDWDnVBigcieFO5qImWdsuhTL6sYZCr5bQZ5wzHqUu2s8iEWOlovszLnZLTSU05Uj0ywEh3i0oZGiMVykNHDj08cce7LAfwyzszE1d2bEui+ArrA9mtaQnLWkF9xdXtK/u8ZdkDjzoyGt//eCIHcbBwEMPTHjuGb1uGtd/6623btqb5v47xHoY/Zg4caJ37vMtmP9OY++hO4/7fBGd1wPLWm2lMt5tRBw9QCMMbN70VYkM/twt4kAbPHEM/qnTO5GDerB9NyWa9gQuAkCkHBDfOaZTXFN1MkC0yNh2YBH4i5VkMvHXv9x92aXve8vbx9DZ37j4sp9cnS8G17XmOjo6z/raXosX6VGiY4455qGHHnJ1tlrC8xKler4MbNDgbe/9y9R4PBkOKbMkpcSdgGc47K9OBnH0AA3ceJu2Tj2eDow4knhcf+wfnRbUQIk66/a8vbfPJU9gjc+hJQ0Yhjr8Q3uOKcTn8aWIHyLbzR55zClX/eruXr3+w59oGDR42NXX3vGDH12rHwJWCol4dPprUx360Le+hTlv7QRGEyZM6PmjqEUL3/39764MBEIumQRDVFZ7/enyqrVFcHeo4vSRBP4DJKNRbRABMqTg6qIz9mIpqv0dhoQeUgdm7AW4MRlXG7i1waQb/NiOGYceJ8XHFY4/8dSHHn35nPMu7dX7g2JgyXbQocddd/ODf330lRNPOhNja2kvwCKTefP1F1ydvfbaa6vNfz5ArFQuv9x7AsrRHb+74bmn/xYKRdF6kGmsC+EnUFD0FwFw4IACQ/c3tinEWVVXSdd1/Pyr2lVuqAtyTapZ0WKhM6W/WE8JlxAa8ZkulLRqW8N7EF59G9kv0FhYh4LB0OpVS19+6YU33pi+etXKxqZ+2+0wZuzYnZsHDAkGAtlcPq63LYqwUyLThece9uKUyZxeeeWVl112mV35DFA2m91zzz17vo9nl133vfeBJ8Mh8h8thlmOof4gxgf0hVXZ+6swhAFySNsoVbIEwv5/vZnC23BObYhSVsztqVLUgq2kWiLHKiEVoKcOVpLNs5SWZdA7gkUAckq2lvb7g5l8sMzSz15oRl4W1l+B1LYJH9oyVm11aNXaUktr+9dP+PzyZbqpOXny5AMPPNBN5jNB//znP/fbbz8hatTU1OexSa/36t3AwgwjWNtaxNEzWT44GFIbJar48JC/Iy0J0Y62JD5Kn/AzQANRSm1wt+gsfEFfYdqvtxgQe7Ui66osZxXVEacMCazATQ/lcimdyqTTqWw2zSefyxaKep7Moo3WGQiSuBIKB1Mdq9zDdOR2O+20kzr97NA+++xz8cUXeye42brGeCKZ1/1aOWtN1vb23XqWGEAhp4q12ilSE3DTn88gZuh1BX49Pdpqf7TTBdhI16OxqmcH4BsJ649NovIMQDVkAKZIC9yBmDomANVHeCRIlODHTF6yTb4RMBLFQsOhQHtbC+KhEHPeSp6B2Cj6n/+5YrfdPu+OTzn1nN69qjK5ErFNuY390oJyjgEEWECMEkCmEEiBjn9NZS0IZ7ICiyUYq2dkgDojHKFsFqZ91K7bMoCLEcjVGNz8w7F1qp+OUMJVGrkm9ExX6sI2t5GRSxLoJ1fwL1q82F0677zz3MFni6qra2787SM//umEG26+/8STz2trz+XtQQdmqkcXioRSbUFTk0LU3/l5oCetN8EITHDTTp5wDPr1HpuM1sOEZjeGc/qqZcJUBLf9OBScMhOAk40j5KBWzgA5RuYyBaRuT2fwoSM6qanSj2GLBan/BRdc0PMXuZ8JAooVqwvEzkK5+tgTzjng4OPJ8VPpEiqYNG+DQiMD2xzVPgQYMncmju912zkQMHLKRwLgMlZDA6AHUGSIdaiWEbKShPTsoqAEZCIE/1BIibspSkxGAECvTm19gelBzvRQB7rl2ASkWBQJ++bPnfn1r5988803W9lngFhVrV5XXLg0/8aczMJleSaYyxez2QzEjJi+oacpgxgaRglNyPdcJCD40QTZAAKX+Lg9HrkgwBWato6wbQ1dsDgs6N06gga0104FVmMOjmrKSlk8W7KlHoW+bTmpshMhkcN+JCW3Y7ccSGpzlc7OdJ++g35+1S1WZ6smOF+xpvDmu5lpb6VffTM1d1G2o1OP74MGQZGoiy7L3IPafJaa62aJxMApzamJ86GECsBFIgPa9El0dJ3odTVADDqdqZKDTzduTGJYBl3wjWwZhkv+gD3KYi1pBeJot4lD6IMu31wi5Do/RsIL6LSFOKZbbYaY5IPBYGt7cdS2UZckbJ3U1lFatDyPIhM/mVqBxNG2GQABrIGYJNF2pH3VySDaiecAw860/jotqSMOA6yYrCunIZ2g2QCCHru/Uas0E8k4u6BTRIcwOEZunPIhaTEE5c0ZqfubvigkdDteESmSk6M3a5DPMdND2rCINDimKv87ZcnqjyCXZ8/Pvrc0zyiuk62BmBdL1iUr8m/Pz85bnCMoojH4WKYTjyrmES+pxv9Sr7C/vibE1CjhFCTlz+1XAkycaSIY0DDE5cDl4e2+mPM69KzNOE7A0r0CiI5oD5ooJl3gYbhKS1RAAg/o9RRy+vqpn3CkC4wADmjFUtClATSUxZhco1HPgPQqobgen6aObWCwKim1tJWIVyzlRgyNoTXwx9B0pZafPqFk8KObhQXU1wczqCTpODjAEhN0i3/sgPnicLhKoVNkVBs+QSCZCGa7fjoJ/6lMiRUW3VGnqd72vXy+1vYSUwZSVrj0zKV0tuIswP/y650IWXfhtTImC5LCAha9Yzi00fZnFgZkNYiXU+AGU7iHFZddMTBCogmDdaRKNGRilHMQI4TAXEXDI4xqexcOCsJVnJ5uoqb17hatzu1Xg0wDBlAr7InT/ygJgGMafJuGiRA/367Q8Yn4URRqACgIgq9jlatkLw4jJoWSkQdSGVbRM3qgkKus/GESzaA+dgBLKA3ltVVBKqN/ctqmNMyB+ExzGKBJfW1QxxUfU5bKizdpLSqIUOkfzP2vzuxEGiQzjlEEjjx7NYQAhVNMLxrV3ikQuynJOGw1C9NoAb1TzgHj8w2LMAGsTBhpUQmnT9QljIMp7ZE/6FONVm62MNdQq7cAMLRNWCpGD4LTnlaSlsU1VZqYXUuizIHJUEITlv6oWFNDyD0yzrgYPlk1lamDOIr2wheQ4hT+EQCtqGOaqHUoBIJchRkYBjU+UkEqZGT6DMSMOKUy1XEjHMAbsqErOV6/XkGGBi9dWQArCpkCJcgA9UXVUCbGgnMOYIZCKgNF8Kxzx9OXPIk5Ypc/YRAU0kte91Gk6XAANEXbVEALxHKXylGVQhBkAk5j4aAsaLR95CRHOVzyHdQDSAKOiWGnNGFWsWiw2u5cowcQDFBOKIJL7AlVWraqsHRlHq3pTEl3KMRN4yu4BNv0gIANBQ2N2cMDTDIKfTrgbDkiTYdnsWGLFYZQNYVWRTWlaHZgLHk78+gKB1I3S97REjdrWDVA7XZ8Qak5HVJC3sncXbX62lAs4nldwESQ0kgJLIAy0xaSNCiFdfBAPgyJjtC4bM8vsjamPQfgK8iRjYul8oDMVs6OXrhKKYWxmBAUi7ZQQOVpDgq0ZmLUR+k4joY1PcgyXQUPuoFFrlIigVn2RmMKbWghy4cA44RH54wZCPoRBm2ZsLMnTFZsmkeiLQ3RdxuU5qYzZrKUc5VRqA/W2KXSRGNcxm1hUwzY4w7uwLEqV2nVwASsHGN0RQXnVzEsShiCYzww/ThOiA2oCNA7nSPw0CGtdM+egSmtSgSpoY1iEzVa75wpcxMitunGadHWXKT2SFLgIk896CvnAGv0y8C4WuREfdpSLveHbkqs4hsQQU3TsBUyB/BghinxOwujUBXcitF2V5gDJfQMe9RXzZCh7FaIuNeuICS4JT8NhNQpl/rbcIyCb6mrCZLPVFkwozk8qBMNKS2kE1hl3IL5N4IBl7iIHnBKQ4bggArUhDc4EU8WUahJ+EQG4IMDoCZGrLBsU4AMEzjRt9QYNeJCwV4C6nqBG0ICZiGx20gUc0RL5EkFFB9iShTyEV6my7pmL3Jy5Srp0jW0zNk10Z5JGmQGqEkXjpk2naODEE00SesECTBtSjARRuEUbkEQW6Yxs2XyfKjDlKjv5MeBdNAyMYYAQVMOTQ1dScS8flBYKlPOuMyOKSM5+gUaNyn6h1Vq2iuWpB8QzkRD00z31svu/jkcMhZTM8GrGgw01AXRQlwIAcz2hZREcZWeUSD0gxk67dfDcvCEVsKTpm3SJnLq2MeCQk/PSfttYFryTSv+l1LbBhzDJGypDSEhKjOYjNoYddGFIRgPR5HPa3XObB1AAEonLe1FelZb94NZjWfKayoGITAcDkpNn6gYJViAJqFURzUAmg6Bkg+dlyw5dm5B6mCb4YRNeQzLI01yGks5ntyjXBzVWG2BMv3CO9kHJW4IdBQ1Am6EgbrQAz4D5jF6GlKZEnijMtNk+pq5sQ0OeB7sgLlrF0BxS7/bBgSmICxhxQ3DCS0VQ/QwlvhY01JkACo4dumOZqpsfh9u4EAo09b0F+YoBDWTtvCBD45piPbV2u+qvBW8OXrL7QSf51tNcubHnA46VbXsUOWCgw9LTeYMSyQLcEVleDBXo182wAwpNvEQcBkibC86pXe6kino7pEw4lRqa5pENAZT29BXcmKDahHaYW/VADICNV6F/kFQ1YrKqVjw05v00l6UhV0CqwlSQClTAsO0sgaYgUPN2p7khXOUAACFGxyzOqAXZu5+ScMwXOALdjmFOaxK9hvW+osJA41ZvQajjnNWmokZBCMhFf3tAXlw9QM3fDMHkAJxxtYolqe6CIlG0yewYuZMQwyYc+dDb3U1IaYHSyZ1mTlo0pCx6JlPTZXEAILy+Ja+Mheu4iIYqFCQo7CsQbYPG3LWARZHRXQfROiKDwe4Ypu+RAJXGkKLBvUASzCvzu1OLwxYyqu7swwNGjSnre0lKz92jOm9Tub9kRkVKKdnKjMvSL40Gvj/Xc9HadyllTIAAAAASUVORK5CYII=\") }\n",
      "    </style>\n",
      "    <ul>\n",
      "        <li>\n",
      "            <img class=\"scratch-image-9e58cbfe-ec4a-4187-b08f-c04e5ba9fc3d\" style=\"border: solid 3px green\"/>\n",
      "        </li>\n",
      "        <li><img class=\"scratch-image-9e58cbfe-ec4a-4187-b08f-c04e5ba9fc3d\" width=\"64px\"/></li>\n",
      "        <li><img class=\"scratch-image-9e58cbfe-ec4a-4187-b08f-c04e5ba9fc3d\" width=\"32px\"/></li>\n",
      "    </ul>\n",
      "</div>\n"
     ]
    },
    {
     "data": {
      "text/html": [
       "<div>\n",
       "    <style>\n",
       "        .scratch-image-9e58cbfe-ec4a-4187-b08f-c04e5ba9fc3d { content: url(\"data:image/png;base64,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\") }\n",
       "    </style>\n",
       "    <ul>\n",
       "        <li>\n",
       "            <img class=\"scratch-image-9e58cbfe-ec4a-4187-b08f-c04e5ba9fc3d\" style=\"border: solid 3px green\"/>\n",
       "        </li>\n",
       "        <li><img class=\"scratch-image-9e58cbfe-ec4a-4187-b08f-c04e5ba9fc3d\" width=\"64px\"/></li>\n",
       "        <li><img class=\"scratch-image-9e58cbfe-ec4a-4187-b08f-c04e5ba9fc3d\" width=\"32px\"/></li>\n",
       "    </ul>\n",
       "</div>"
      ]
     },
     "metadata": {},
     "output_type": "display_data"
    }
   ],
   "source": [
    "module Sample6 =\n",
    "    open ChickenScratch.HtmlExpressions\n",
    "\n",
    "    let myImage = \n",
    "        \"ChickenScratch.Resources.ChickenScratch.png\"\n",
    "        |> ScratchImage.FromResource typeof<ScratchImage>.Assembly \n",
    "        |> ScratchImage.WithPrototype (img { _style \"border: solid 3px green\" })\n",
    "\n",
    "    let doc = div {\n",
    "        myImage.Style\n",
    "\n",
    "        ul {\n",
    "            li { myImage.Instance }\n",
    "            li { myImage.WithPrototype( img { _width \"64px\" } ).Instance }\n",
    "            li { myImage.WithPrototype( img { _width \"32px\" } ).Instance }\n",
    "        }\n",
    "    }\n",
    "\n",
    "printfn \"%A\" Sample6.doc\n",
    "\n",
    "Sample6.doc"
   ]
  }
 ],
 "metadata": {
  "kernelspec": {
   "display_name": ".NET (C#)",
   "language": "C#",
   "name": ".net-csharp"
  },
  "language_info": {
   "name": "polyglot-notebook"
  },
  "polyglot_notebook": {
   "kernelInfo": {
    "defaultKernelName": "csharp",
    "items": [
     {
      "aliases": [],
      "name": "csharp"
     },
     {
      "aliases": [],
      "languageName": "fsharp",
      "name": "fsharp"
     }
    ]
   }
  }
 },
 "nbformat": 4,
 "nbformat_minor": 2
}
