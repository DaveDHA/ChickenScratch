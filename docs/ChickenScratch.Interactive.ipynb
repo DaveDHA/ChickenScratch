{
 "cells": [
  {
   "attachments": {},
   "cell_type": "markdown",
   "metadata": {},
   "source": [
    "# ChickenScratch.Interactive\n",
    "\n",
    "## Add ChickenScratch.Interactive to your Polyglot Notebook"
   ]
  },
  {
   "cell_type": "code",
   "execution_count": 1,
   "metadata": {
    "dotnet_interactive": {
     "language": "fsharp"
    },
    "polyglot_notebook": {
     "kernelName": "fsharp"
    }
   },
   "outputs": [
    {
     "data": {
      "text/html": [
       "<div><div></div><div></div><div><strong>Installed Packages</strong><ul><li><span>ChickenScratch.Interactive, 1.0.0</span></li></ul></div></div>"
      ]
     },
     "metadata": {},
     "output_type": "display_data"
    },
    {
     "data": {
      "text/plain": [
       "Loading extension script from `C:\\Users\\dave\\.nuget\\packages\\chickenscratch.interactive\\1.0.0\\interactive-extensions\\dotnet\\extension.dib`"
      ]
     },
     "metadata": {},
     "output_type": "display_data"
    }
   ],
   "source": [
    "#r \"nuget: ChickenScratch.Interactive\"\n",
    "open ChickenScratch"
   ]
  },
  {
   "attachments": {},
   "cell_type": "markdown",
   "metadata": {},
   "source": [
    "## Creating Html\n",
    "\n",
    "### Basic Html"
   ]
  },
  {
   "cell_type": "code",
   "execution_count": 2,
   "metadata": {
    "dotnet_interactive": {
     "language": "fsharp"
    },
    "polyglot_notebook": {
     "kernelName": "fsharp"
    }
   },
   "outputs": [
    {
     "data": {
      "text/html": [
       "<div style=\"border: solid 3px green ; background-color: lightgray ; color: black; padding: 10px\">\n",
       "    <h1>Welcome to Chicken Scratch</h1>\n",
       "    <ul>\n",
       "        <li>Simple DSL for creating HTML</li>\n",
       "        <li>\n",
       "            Include\n",
       "            <strong>IScratchNodeSource</strong>\n",
       "            types directly in your Html exressions\n",
       "        </li>\n",
       "        <li>Add content from files, strings, streams, or resources</li>\n",
       "    </ul>\n",
       "</div>"
      ]
     },
     "metadata": {},
     "output_type": "display_data"
    }
   ],
   "source": [
    "module Sample1 =\n",
    "    open ChickenScratch.HtmlExpressions\n",
    "\n",
    "    let doc = div {\n",
    "        _style \"border: solid 3px green ; background-color: lightgray ; color: black; padding: 10px\"        \n",
    "        \n",
    "        h1 { \"Welcome to Chicken Scratch\" }\n",
    "\n",
    "        ul {\n",
    "            li { \"Simple DSL for creating HTML\" }\n",
    "            li { \"Include\" ; strong { \"IScratchNodeSource\" } ; \"types directly in your Html exressions\" } \n",
    "            li { \"Add content from files, strings, streams, or resources\" }           \n",
    "        }        \n",
    "    }\n",
    "\n",
    "Sample1.doc"
   ]
  },
  {
   "cell_type": "code",
   "execution_count": 3,
   "metadata": {
    "dotnet_interactive": {
     "language": "fsharp"
    },
    "polyglot_notebook": {
     "kernelName": "fsharp"
    }
   },
   "outputs": [
    {
     "name": "stdout",
     "output_type": "stream",
     "text": [
      "<div style=\"border: solid 3px green ; background-color: lightgray ; color: black; padding: 10px\">\n",
      "    <h1>Welcome to Chicken Scratch</h1>\n",
      "    <ul>\n",
      "        <li>Simple DSL for creating HTML</li>\n",
      "        <li>\n",
      "            Include\n",
      "            <strong>IScratchNodeSource</strong>\n",
      "            types directly in your Html exressions\n",
      "        </li>\n",
      "        <li>Add content from files, strings, streams, or resources</li>\n",
      "    </ul>\n",
      "</div>\n"
     ]
    }
   ],
   "source": [
    "printfn \"%A\" Sample1.doc"
   ]
  },
  {
   "attachments": {},
   "cell_type": "markdown",
   "metadata": {},
   "source": [
    "Attributes (such `_style`, `_class`, and `_height`) are prefixed with an underscore character.  Tags (such as `div`, `table`, and `h1`) and events (such as `onclick`, `onmouseup`, and `onscroll`) are not.  All are contained within the `HtmlExpressions` module.  It is recommended that you open that module only within a limited scope to prevent common name collisions.\n",
    "\n",
    "Tags, attributes, and events can be found in the `Tags`, `Attributes`, and `Events` modules respectively.  Those modules are auto-opened with the `HtmlExpressions` module so you generally don't need to specify them, but if you are having trouble remembering exactly what that event you need is called, type `Events.` and let your code completion tool help you find it.\n",
    "\n",
    "All string content will be encoded.  Use `RawContent` if you want to avoid encoding.\n",
    "\n",
    "Be careful to keep your style selectors local to only the content you want to modify, or you may end up affecting other output in the notebook."
   ]
  },
  {
   "cell_type": "code",
   "execution_count": 4,
   "metadata": {
    "dotnet_interactive": {
     "language": "fsharp"
    },
    "polyglot_notebook": {
     "kernelName": "fsharp"
    }
   },
   "outputs": [
    {
     "data": {
      "text/html": [
       "<div id=\"sample2\">\n",
       "    <style>\n",
       "        \r\n",
       "                #sample2 .mainHeader { color: red }\r\n",
       "                #sample2 li { color: green ; text-decoration: underline }\r\n",
       "            \n",
       "    </style>\n",
       "    <h1 class=\"mainHeader\">Look at this</h1>\n",
       "    <ul>\n",
       "        <li>Item 1</li>\n",
       "        <li style=\"color: yellow\">Item 2</li>\n",
       "        <li>Item 3</li>\n",
       "    </ul>\n",
       "    <hr/>\n",
       "    <p>This content is encoded &amp; you can see that 1 &lt; 2.</p>\n",
       "    <p>This content is <strong>not</strong> encoded.</p>\n",
       "    <p>This content is not encoded either.</p>\n",
       "</div>"
      ]
     },
     "metadata": {},
     "output_type": "display_data"
    }
   ],
   "source": [
    "module Sample2 =\n",
    "    open ChickenScratch.HtmlExpressions\n",
    "\n",
    "    let doc = div {\n",
    "        _id \"sample2\"\n",
    "        style { \"\"\"\n",
    "                #sample2 .mainHeader { color: red }\n",
    "                #sample2 li { color: green ; text-decoration: underline }\n",
    "            \"\"\" }\n",
    "        \n",
    "        h1 { \"Look at this\" ; _class \"mainHeader\" }\n",
    "\n",
    "        ul { \n",
    "            yield! \n",
    "                seq {1..3} \n",
    "                |> Seq.map (fun i -> li { $\"Item {i}\" ; if i % 2 = 0 then _style \"color: yellow\" })\n",
    "        }\n",
    "\n",
    "        hr { () }\n",
    "\n",
    "        Tags.p { \"This content is encoded & you can see that 1 < 2.\" }\n",
    "        p { RawContent \"This content is <strong>not</strong> encoded.\" }\n",
    "        RawContent \"<p>This content is not encoded either.</p>\"\n",
    "    }\n",
    "\n",
    "Sample2.doc"
   ]
  },
  {
   "attachments": {},
   "cell_type": "markdown",
   "metadata": {},
   "source": [
    "### Including `IScratchNodeSource` Items in Html Expressions\n",
    "\n",
    "Any type that implements `IScratchNodeSource` can be dropped directly into your Html expressions.  `IScratchNodeSource` also has a registered formatter with the notebook, so objects implementing that interface can be displayed directly."
   ]
  },
  {
   "cell_type": "code",
   "execution_count": 5,
   "metadata": {
    "dotnet_interactive": {
     "language": "fsharp"
    },
    "polyglot_notebook": {
     "kernelName": "fsharp"
    }
   },
   "outputs": [],
   "source": [
    "module Sample3 =\n",
    "    open ChickenScratch.HtmlExpressions\n",
    "\n",
    "    type EmployeeInfo = {\n",
    "        Id : int\n",
    "        Name : string\n",
    "        Email : string\n",
    "    }\n",
    "    with\n",
    "        interface IScratchNodeSource with\n",
    "            member this.GetScratchNodes() = [ \n",
    "                EncodedContent $\"{this.Id}: \"\n",
    "                strong { $\"{this.Name} \" }\n",
    "                EncodedContent $\"({this.Email})\" \n",
    "            ]\n",
    "\n",
    "\n",
    "    type OrgChartEntry = \n",
    "    | Manager of EmployeeInfo * (OrgChartEntry list)\n",
    "    | WorkerBee of EmployeeInfo\n",
    "    with \n",
    "        interface IScratchNodeSource with\n",
    "            member this.GetScratchNodes() = \n",
    "                match this with\n",
    "                | WorkerBee emp -> [ li { span { emp ; _class \"workerBee\" } } ]\n",
    "                | Manager (mgr, emps) -> [ li { span { mgr ; _class \"manager\"} ; ul { yield! emps } } ]\n",
    "\n",
    "\n",
    "    type Company = {\n",
    "        Name : string\n",
    "        OrgChart : OrgChartEntry list\n",
    "    }\n",
    "    with \n",
    "        interface IScratchNodeSource with\n",
    "            member this.GetScratchNodes() = [ h1 { this.Name } ; ul { yield! this.OrgChart }]"
   ]
  },
  {
   "cell_type": "code",
   "execution_count": 6,
   "metadata": {
    "dotnet_interactive": {
     "language": "fsharp"
    },
    "polyglot_notebook": {
     "kernelName": "fsharp"
    }
   },
   "outputs": [
    {
     "data": {
      "text/html": [
       "<h1>Samples Incorporated</h1>\n",
       "<ul>\n",
       "    <li>\n",
       "        <span class=\"manager\">\n",
       "            1: \n",
       "            <strong>Molly Manager </strong>\n",
       "            (theboss@Sample.com)\n",
       "        </span>\n",
       "        <ul>\n",
       "            <li>\n",
       "                <span class=\"workerBee\">\n",
       "                    10: \n",
       "                    <strong>Sammy Sampleson </strong>\n",
       "                    (sam@sample.com)\n",
       "                </span>\n",
       "            </li>\n",
       "            <li>\n",
       "                <span class=\"workerBee\">\n",
       "                    11: \n",
       "                    <strong>Elise Example </strong>\n",
       "                    (elise@sample.com)\n",
       "                </span>\n",
       "            </li>\n",
       "            <li>\n",
       "                <span class=\"workerBee\">\n",
       "                    12: \n",
       "                    <strong>Testy McTesterson </strong>\n",
       "                    (Testy@Test.com)\n",
       "                </span>\n",
       "            </li>\n",
       "        </ul>\n",
       "    </li>\n",
       "</ul>"
      ]
     },
     "metadata": {},
     "output_type": "display_data"
    }
   ],
   "source": [
    "open Sample3\n",
    "\n",
    "{\n",
    "    Name = \"Samples Incorporated\"\n",
    "    OrgChart = [\n",
    "        Manager ({ Id = 1 ; Name = \"Molly Manager\" ; Email = \"theboss@Sample.com\" }, [\n",
    "            WorkerBee { Id = 10 ; Name = \"Sammy Sampleson\" ; Email = \"sam@sample.com\" }\n",
    "            WorkerBee { Id = 11 ; Name = \"Elise Example\" ; Email = \"elise@sample.com\" }\n",
    "            WorkerBee { Id = 12 ; Name = \"Testy McTesterson\" ; Email = \"Testy@Test.com\" }\n",
    "        ])\n",
    "    ]\n",
    "}    "
   ]
  },
  {
   "attachments": {},
   "cell_type": "markdown",
   "metadata": {},
   "source": [
    "### Adding Content from Files, Strings, Streams, and Resources\n",
    "\n",
    "`ScratchStyle`, `ScratchScript`, and `ScratchHtml` each offer the following methods:\n",
    "\n",
    "- `FromString : String -> ScratchNode`\n",
    "- `FromStream : Stream -> ScratchNode`\n",
    "- `FromFile : String -> ScratchNode`\n",
    "- `FromResource : Assembly -> String -> ScratchNode`\n",
    "\n",
    "These can be used to load additional content into Html expressions."
   ]
  },
  {
   "cell_type": "code",
   "execution_count": 7,
   "metadata": {
    "dotnet_interactive": {
     "language": "fsharp"
    },
    "polyglot_notebook": {
     "kernelName": "fsharp"
    }
   },
   "outputs": [
    {
     "data": {
      "text/html": [
       "<div id=\"sample4\">\n",
       "    <style>\n",
       "        #sample4 { \r\n",
       "    border: solid 3px black;\r\n",
       "    border-radius: 25px;\r\n",
       "    background-color: lightgrey;\r\n",
       "    color: black;\r\n",
       "    font-family: Georgia;\r\n",
       "    width: 30em;\r\n",
       "    margin-left: auto;\r\n",
       "    margin-right: auto;\r\n",
       "    padding: 20px;\r\n",
       "}\r\n",
       "#sample4 .manager { \r\n",
       "    font-size: 1.2em;    \r\n",
       "}\r\n",
       "#sample4 .workerBee {\r\n",
       "    font-style: italic;\r\n",
       "\r\n",
       "}\r\n",
       "\n",
       "    </style>\n",
       "    <h1>Samples Incorporated</h1>\n",
       "    <ul>\n",
       "        <li>\n",
       "            <span class=\"manager\">\n",
       "                1: \n",
       "                <strong>Molly Manager </strong>\n",
       "                (theboss@Sample.com)\n",
       "            </span>\n",
       "            <ul>\n",
       "                <li>\n",
       "                    <span class=\"workerBee\">\n",
       "                        10: \n",
       "                        <strong>Sammy Sampleson </strong>\n",
       "                        (sam@sample.com)\n",
       "                    </span>\n",
       "                </li>\n",
       "                <li>\n",
       "                    <span class=\"workerBee\">\n",
       "                        11: \n",
       "                        <strong>Elise Example </strong>\n",
       "                        (elise@sample.com)\n",
       "                    </span>\n",
       "                </li>\n",
       "                <li>\n",
       "                    <span class=\"workerBee\">\n",
       "                        12: \n",
       "                        <strong>Testy McTesterson </strong>\n",
       "                        (Testy@Test.com)\n",
       "                    </span>\n",
       "                </li>\n",
       "            </ul>\n",
       "        </li>\n",
       "    </ul>\n",
       "</div>"
      ]
     },
     "metadata": {},
     "output_type": "display_data"
    }
   ],
   "source": [
    "module Sample4 = \n",
    "    open ChickenScratch.HtmlExpressions\n",
    "\n",
    "    let doc = div {\n",
    "        _id \"sample4\"\n",
    "        \n",
    "        ScratchStyle.FromFile \"Sample.css\"\n",
    "\n",
    "        {\n",
    "            Name = \"Samples Incorporated\"\n",
    "            OrgChart = [\n",
    "                Manager ({ Id = 1 ; Name = \"Molly Manager\" ; Email = \"theboss@Sample.com\" }, [\n",
    "                    WorkerBee { Id = 10 ; Name = \"Sammy Sampleson\" ; Email = \"sam@sample.com\" }\n",
    "                    WorkerBee { Id = 11 ; Name = \"Elise Example\" ; Email = \"elise@sample.com\" }\n",
    "                    WorkerBee { Id = 12 ; Name = \"Testy McTesterson\" ; Email = \"Testy@Test.com\" }\n",
    "                ])\n",
    "            ]\n",
    "        }    \n",
    "    }\n",
    "\n",
    "Sample4.doc"
   ]
  }
 ],
 "metadata": {
  "kernelspec": {
   "display_name": ".NET (C#)",
   "language": "C#",
   "name": ".net-csharp"
  },
  "language_info": {
   "name": "polyglot-notebook"
  },
  "polyglot_notebook": {
   "kernelInfo": {
    "defaultKernelName": "csharp",
    "items": [
     {
      "aliases": [],
      "name": "csharp"
     },
     {
      "aliases": [],
      "languageName": "fsharp",
      "name": "fsharp"
     }
    ]
   }
  }
 },
 "nbformat": 4,
 "nbformat_minor": 2
}
