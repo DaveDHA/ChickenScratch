{
 "cells": [
  {
   "attachments": {},
   "cell_type": "markdown",
   "metadata": {},
   "source": [
    "# Working with TabularDataResource"
   ]
  },
  {
   "attachments": {},
   "cell_type": "markdown",
   "metadata": {},
   "source": [
    "## Adding packages for ChickenScratch and Sql Server"
   ]
  },
  {
   "cell_type": "code",
   "execution_count": 3,
   "metadata": {
    "dotnet_interactive": {
     "language": "fsharp"
    },
    "polyglot_notebook": {
     "kernelName": "fsharp"
    }
   },
   "outputs": [
    {
     "data": {
      "text/html": [
       "<div><div></div><div></div><div><strong>Installed Packages</strong><ul><li><span>ChickenScratch.Interactive, 1.2.0</span></li><li><span>Fsharp.Core, 7.0.200</span></li><li><span>Microsoft.DotNet.Interactive.SqlServer, 1.0.0-beta.23205.1</span></li></ul></div></div>"
      ]
     },
     "metadata": {},
     "output_type": "display_data"
    },
    {
     "data": {
      "text/plain": [
       "Loading extensions from `C:\\Users\\dave\\.nuget\\packages\\microsoft.dotnet.interactive.sqlserver\\1.0.0-beta.23205.1\\interactive-extensions\\dotnet\\Microsoft.DotNet.Interactive.SqlServer.dll`"
      ]
     },
     "metadata": {},
     "output_type": "display_data"
    },
    {
     "data": {
      "text/html": [
       "<details><summary>Query Microsoft SQL Server databases.</summary>\r\n",
       "<p>This extension adds support for connecting to Microsoft SQL Server databases using the <code>#!connect mssql</code> magic command. For more information, run a cell using the <code>#!sql</code> magic command.</p>\r\n",
       "</details>"
      ]
     },
     "metadata": {},
     "output_type": "display_data"
    },
    {
     "data": {
      "text/plain": [
       "Loading extension script from `C:\\Users\\dave\\.nuget\\packages\\chickenscratch.interactive\\1.2.0\\interactive-extensions\\dotnet\\extension.dib`"
      ]
     },
     "metadata": {},
     "output_type": "display_data"
    }
   ],
   "source": [
    "#r \"nuget: Microsoft.DotNet.Interactive.SqlServer, *-*\"\n",
    "#r \"nuget: ChickenScratch.Interactive\"\n",
    "#r \"nuget: Fsharp.Core\"\n",
    "\n",
    "open ChickenScratch"
   ]
  },
  {
   "attachments": {},
   "cell_type": "markdown",
   "metadata": {},
   "source": [
    "## Connecting to the database and running a simple query"
   ]
  },
  {
   "attachments": {},
   "cell_type": "markdown",
   "metadata": {},
   "source": [
    "This sample makes use of the [AdventureWorks Sample Database](https://learn.microsoft.com/en-us/sql/samples/adventureworks-install-configure?view=sql-server-ver16&tabs=ssms)."
   ]
  },
  {
   "cell_type": "code",
   "execution_count": 4,
   "metadata": {
    "dotnet_interactive": {
     "language": "fsharp"
    },
    "polyglot_notebook": {
     "kernelName": "fsharp"
    }
   },
   "outputs": [
    {
     "data": {
      "text/plain": [
       "Kernel added: #!sql-advWorks"
      ]
     },
     "metadata": {},
     "output_type": "display_data"
    }
   ],
   "source": [
    "#!connect mssql --kernel-name advWorks \"Data Source=(localdb)\\Sql2022Express;Initial Catalog=AdventureWorksLT2019;Integrated Security=True\""
   ]
  },
  {
   "cell_type": "code",
   "execution_count": 9,
   "metadata": {
    "dotnet_interactive": {
     "language": "sql-advWorks"
    },
    "polyglot_notebook": {
     "kernelName": "sql-advWorks"
    }
   },
   "outputs": [
    {
     "data": {
      "text/plain": [
       "(5 rows affected)"
      ]
     },
     "metadata": {},
     "output_type": "display_data"
    },
    {
     "data": {
      "text/csv": [
       "ProductId,ProductName,Color,ListPrice,Weight,ProductCategoryID,SellStartDate,CategoryName\r\n",
       "680,\"HL Road Frame - Black, 58\",Black,1431.50,1016.04,18,2002-06-01T00:00:00.0000000,\"Road Frames\"\r\n",
       "706,\"HL Road Frame - Red, 58\",Red,1431.50,1016.04,18,2002-06-01T00:00:00.0000000,\"Road Frames\"\r\n",
       "707,\"Sport-100 Helmet, Red\",Red,34.99,,35,2005-07-01T00:00:00.0000000,Helmets\r\n",
       "708,\"Sport-100 Helmet, Black\",Black,34.99,,35,2005-07-01T00:00:00.0000000,Helmets\r\n",
       "709,\"Mountain Bike Socks, M\",White,9.50,,27,2005-07-01T00:00:00.0000000,Socks\r\n"
      ],
      "text/html": [
       "<table><thead><tr><td><span>ProductId</span></td><td><span>ProductName</span></td><td><span>Color</span></td><td><span>ListPrice</span></td><td><span>Weight</span></td><td><span>ProductCategoryID</span></td><td><span>SellStartDate</span></td><td><span>CategoryName</span></td></tr></thead><tbody><tr><td><div class=\"dni-plaintext\"><pre>680</pre></div></td><td>HL Road Frame - Black, 58</td><td>Black</td><td><div class=\"dni-plaintext\"><pre>1431.50</pre></div></td><td><div class=\"dni-plaintext\"><pre>1016.04</pre></div></td><td><div class=\"dni-plaintext\"><pre>18</pre></div></td><td><span>2002-06-01 00:00:00Z</span></td><td>Road Frames</td></tr><tr><td><div class=\"dni-plaintext\"><pre>706</pre></div></td><td>HL Road Frame - Red, 58</td><td>Red</td><td><div class=\"dni-plaintext\"><pre>1431.50</pre></div></td><td><div class=\"dni-plaintext\"><pre>1016.04</pre></div></td><td><div class=\"dni-plaintext\"><pre>18</pre></div></td><td><span>2002-06-01 00:00:00Z</span></td><td>Road Frames</td></tr><tr><td><div class=\"dni-plaintext\"><pre>707</pre></div></td><td>Sport-100 Helmet, Red</td><td>Red</td><td><div class=\"dni-plaintext\"><pre>34.99</pre></div></td><td><div class=\"dni-plaintext\"><pre>&lt;null&gt;</pre></div></td><td><div class=\"dni-plaintext\"><pre>35</pre></div></td><td><span>2005-07-01 00:00:00Z</span></td><td>Helmets</td></tr><tr><td><div class=\"dni-plaintext\"><pre>708</pre></div></td><td>Sport-100 Helmet, Black</td><td>Black</td><td><div class=\"dni-plaintext\"><pre>34.99</pre></div></td><td><div class=\"dni-plaintext\"><pre>&lt;null&gt;</pre></div></td><td><div class=\"dni-plaintext\"><pre>35</pre></div></td><td><span>2005-07-01 00:00:00Z</span></td><td>Helmets</td></tr><tr><td><div class=\"dni-plaintext\"><pre>709</pre></div></td><td>Mountain Bike Socks, M</td><td>White</td><td><div class=\"dni-plaintext\"><pre>9.50</pre></div></td><td><div class=\"dni-plaintext\"><pre>&lt;null&gt;</pre></div></td><td><div class=\"dni-plaintext\"><pre>27</pre></div></td><td><span>2005-07-01 00:00:00Z</span></td><td>Socks</td></tr></tbody></table><style>\r\n",
       ".dni-code-hint {\r\n",
       "    font-style: italic;\r\n",
       "    overflow: hidden;\r\n",
       "    white-space: nowrap;\r\n",
       "}\r\n",
       ".dni-treeview {\r\n",
       "    white-space: nowrap;\r\n",
       "}\r\n",
       ".dni-treeview td {\r\n",
       "    vertical-align: top;\r\n",
       "    text-align: start;\r\n",
       "}\r\n",
       "details.dni-treeview {\r\n",
       "    padding-left: 1em;\r\n",
       "}\r\n",
       "table td {\r\n",
       "    text-align: start;\r\n",
       "}\r\n",
       "table tr { \r\n",
       "    vertical-align: top; \r\n",
       "    margin: 0em 0px;\r\n",
       "}\r\n",
       "table tr td pre \r\n",
       "{ \r\n",
       "    vertical-align: top !important; \r\n",
       "    margin: 0em 0px !important;\r\n",
       "} \r\n",
       "table th {\r\n",
       "    text-align: start;\r\n",
       "}\r\n",
       "</style>"
      ]
     },
     "metadata": {},
     "output_type": "display_data"
    }
   ],
   "source": [
    "#!sql-advWorks --name dbProducts\n",
    "\n",
    "select top(5) \n",
    "    prod.ProductId, \n",
    "    prod.Name as ProductName, \n",
    "    prod.Color, \n",
    "    prod.ListPrice, \n",
    "    prod.Weight, \n",
    "    prod.ProductCategoryID, \n",
    "    prod.SellStartDate, \n",
    "    cat.Name as CategoryName\n",
    "from SalesLT.Product prod\n",
    "    join SalesLT.ProductCategory cat on prod.ProductCategoryID = cat.ProductCategoryID\n",
    "\n"
   ]
  },
  {
   "attachments": {},
   "cell_type": "markdown",
   "metadata": {},
   "source": [
    "## Setting up some types to work with"
   ]
  },
  {
   "cell_type": "code",
   "execution_count": 11,
   "metadata": {
    "dotnet_interactive": {
     "language": "fsharp"
    },
    "polyglot_notebook": {
     "kernelName": "fsharp"
    }
   },
   "outputs": [],
   "source": [
    "type Color = Black | Red | White\n",
    "\n",
    "type Category = \n",
    "| RoadFrames = 18\n",
    "| Helmets = 35\n",
    "| Socks = 27\n",
    "\n",
    "type Product = {\n",
    "    Id : int\n",
    "    Name : string\n",
    "    Color : Color\n",
    "    ListPrice : decimal\n",
    "    Weight : decimal option\n",
    "    SellStartDate : DateTime\n",
    "    Category : Category\n",
    "}"
   ]
  },
  {
   "attachments": {},
   "cell_type": "markdown",
   "metadata": {},
   "source": [
    "## Getting strongly-typed data from the TabularDataResource using ChickenScratch"
   ]
  },
  {
   "cell_type": "code",
   "execution_count": 13,
   "metadata": {
    "dotnet_interactive": {
     "language": "fsharp"
    },
    "polyglot_notebook": {
     "kernelName": "fsharp"
    }
   },
   "outputs": [
    {
     "data": {
      "text/html": [
       "<table><thead><tr><th><i>index</i></th><th>value</th></tr></thead><tbody><tr><td>0</td><td><details class=\"dni-treeview\"><summary><span class=\"dni-code-hint\"><code>{ Id = 680\\n  Name = \"HL Road Frame - Black, 58\"\\n  Color = Black\\n  ListPrice = 1431.50M\\n  Weight = Some 1016.04M\\n  SellStartDate = 6/1/2002 12:00:00 AM\\n  Category = RoadFrames }</code></span></summary><div><table><thead><tr></tr></thead><tbody><tr><td>Id</td><td><div class=\"dni-plaintext\"><pre>680</pre></div></td></tr><tr><td>Name</td><td>HL Road Frame - Black, 58</td></tr><tr><td>Color</td><td><details class=\"dni-treeview\"><summary><span class=\"dni-code-hint\"><code>Black</code></span></summary><div><table><thead><tr></tr></thead><tbody></tbody></table></div></details></td></tr><tr><td>ListPrice</td><td><div class=\"dni-plaintext\"><pre>1431.50</pre></div></td></tr><tr><td>Weight</td><td><details class=\"dni-treeview\"><summary><span class=\"dni-code-hint\"><code>Some(1016.04)</code></span></summary><div><table><thead><tr></tr></thead><tbody><tr><td>Value</td><td><div class=\"dni-plaintext\"><pre>1016.04</pre></div></td></tr></tbody></table></div></details></td></tr><tr><td>SellStartDate</td><td><span>2002-06-01 00:00:00Z</span></td></tr><tr><td>Category</td><td><span>RoadFrames</span></td></tr></tbody></table></div></details></td></tr><tr><td>1</td><td><details class=\"dni-treeview\"><summary><span class=\"dni-code-hint\"><code>{ Id = 706\\n  Name = \"HL Road Frame - Red, 58\"\\n  Color = Red\\n  ListPrice = 1431.50M\\n  Weight = Some 1016.04M\\n  SellStartDate = 6/1/2002 12:00:00 AM\\n  Category = RoadFrames }</code></span></summary><div><table><thead><tr></tr></thead><tbody><tr><td>Id</td><td><div class=\"dni-plaintext\"><pre>706</pre></div></td></tr><tr><td>Name</td><td>HL Road Frame - Red, 58</td></tr><tr><td>Color</td><td><details class=\"dni-treeview\"><summary><span class=\"dni-code-hint\"><code>Red</code></span></summary><div><table><thead><tr></tr></thead><tbody></tbody></table></div></details></td></tr><tr><td>ListPrice</td><td><div class=\"dni-plaintext\"><pre>1431.50</pre></div></td></tr><tr><td>Weight</td><td><details class=\"dni-treeview\"><summary><span class=\"dni-code-hint\"><code>Some(1016.04)</code></span></summary><div><table><thead><tr></tr></thead><tbody><tr><td>Value</td><td><div class=\"dni-plaintext\"><pre>1016.04</pre></div></td></tr></tbody></table></div></details></td></tr><tr><td>SellStartDate</td><td><span>2002-06-01 00:00:00Z</span></td></tr><tr><td>Category</td><td><span>RoadFrames</span></td></tr></tbody></table></div></details></td></tr><tr><td>2</td><td><details class=\"dni-treeview\"><summary><span class=\"dni-code-hint\"><code>{ Id = 707\\n  Name = \"Sport-100 Helmet, Red\"\\n  Color = Red\\n  ListPrice = 34.99M\\n  Weight = None\\n  SellStartDate = 7/1/2005 12:00:00 AM\\n  Category = Helmets }</code></span></summary><div><table><thead><tr></tr></thead><tbody><tr><td>Id</td><td><div class=\"dni-plaintext\"><pre>707</pre></div></td></tr><tr><td>Name</td><td>Sport-100 Helmet, Red</td></tr><tr><td>Color</td><td><details class=\"dni-treeview\"><summary><span class=\"dni-code-hint\"><code>Red</code></span></summary><div><table><thead><tr></tr></thead><tbody></tbody></table></div></details></td></tr><tr><td>ListPrice</td><td><div class=\"dni-plaintext\"><pre>34.99</pre></div></td></tr><tr><td>Weight</td><td><div class=\"dni-plaintext\"><pre>&lt;null&gt;</pre></div></td></tr><tr><td>SellStartDate</td><td><span>2005-07-01 00:00:00Z</span></td></tr><tr><td>Category</td><td><span>Helmets</span></td></tr></tbody></table></div></details></td></tr><tr><td>3</td><td><details class=\"dni-treeview\"><summary><span class=\"dni-code-hint\"><code>{ Id = 708\\n  Name = \"Sport-100 Helmet, Black\"\\n  Color = Black\\n  ListPrice = 34.99M\\n  Weight = None\\n  SellStartDate = 7/1/2005 12:00:00 AM\\n  Category = Helmets }</code></span></summary><div><table><thead><tr></tr></thead><tbody><tr><td>Id</td><td><div class=\"dni-plaintext\"><pre>708</pre></div></td></tr><tr><td>Name</td><td>Sport-100 Helmet, Black</td></tr><tr><td>Color</td><td><details class=\"dni-treeview\"><summary><span class=\"dni-code-hint\"><code>Black</code></span></summary><div><table><thead><tr></tr></thead><tbody></tbody></table></div></details></td></tr><tr><td>ListPrice</td><td><div class=\"dni-plaintext\"><pre>34.99</pre></div></td></tr><tr><td>Weight</td><td><div class=\"dni-plaintext\"><pre>&lt;null&gt;</pre></div></td></tr><tr><td>SellStartDate</td><td><span>2005-07-01 00:00:00Z</span></td></tr><tr><td>Category</td><td><span>Helmets</span></td></tr></tbody></table></div></details></td></tr><tr><td>4</td><td><details class=\"dni-treeview\"><summary><span class=\"dni-code-hint\"><code>{ Id = 709\\n  Name = \"Mountain Bike Socks, M\"\\n  Color = White\\n  ListPrice = 9.50M\\n  Weight = None\\n  SellStartDate = 7/1/2005 12:00:00 AM\\n  Category = Socks }</code></span></summary><div><table><thead><tr></tr></thead><tbody><tr><td>Id</td><td><div class=\"dni-plaintext\"><pre>709</pre></div></td></tr><tr><td>Name</td><td>Mountain Bike Socks, M</td></tr><tr><td>Color</td><td><details class=\"dni-treeview\"><summary><span class=\"dni-code-hint\"><code>White</code></span></summary><div><table><thead><tr></tr></thead><tbody></tbody></table></div></details></td></tr><tr><td>ListPrice</td><td><div class=\"dni-plaintext\"><pre>9.50</pre></div></td></tr><tr><td>Weight</td><td><div class=\"dni-plaintext\"><pre>&lt;null&gt;</pre></div></td></tr><tr><td>SellStartDate</td><td><span>2005-07-01 00:00:00Z</span></td></tr><tr><td>Category</td><td><span>Socks</span></td></tr></tbody></table></div></details></td></tr></tbody></table><style>\r\n",
       ".dni-code-hint {\r\n",
       "    font-style: italic;\r\n",
       "    overflow: hidden;\r\n",
       "    white-space: nowrap;\r\n",
       "}\r\n",
       ".dni-treeview {\r\n",
       "    white-space: nowrap;\r\n",
       "}\r\n",
       ".dni-treeview td {\r\n",
       "    vertical-align: top;\r\n",
       "    text-align: start;\r\n",
       "}\r\n",
       "details.dni-treeview {\r\n",
       "    padding-left: 1em;\r\n",
       "}\r\n",
       "table td {\r\n",
       "    text-align: start;\r\n",
       "}\r\n",
       "table tr { \r\n",
       "    vertical-align: top; \r\n",
       "    margin: 0em 0px;\r\n",
       "}\r\n",
       "table tr td pre \r\n",
       "{ \r\n",
       "    vertical-align: top !important; \r\n",
       "    margin: 0em 0px !important;\r\n",
       "} \r\n",
       "table th {\r\n",
       "    text-align: start;\r\n",
       "}\r\n",
       "</style>"
      ]
     },
     "metadata": {},
     "output_type": "display_data"
    }
   ],
   "source": [
    "#!share dbProducts --from sql-advWorks --as productsData\n",
    "\n",
    "let products = \n",
    "    productsData[0].Data\n",
    "    |> Seq.map (fun row ->\n",
    "            { \n",
    "                Id = row |> TabDataRow.Value \"ProductId\"\n",
    "                Name = row |> TabDataRow.Value \"ProductName\"\n",
    "                Color = row |> TabDataRow.UnionValue \"Color\"\n",
    "                ListPrice = row |> TabDataRow.Value \"ListPrice\"\n",
    "                Weight = row |> TabDataRow.OptionalValue \"Weight\"\n",
    "                SellStartDate = row |> TabDataRow.Value \"SellStartDate\"\n",
    "                Category = row |> TabDataRow.EnumValue \"CategoryName\"\n",
    "            }\n",
    "        )\n",
    "    |> Seq.toList\n",
    "\n",
    "products"
   ]
  },
  {
   "attachments": {},
   "cell_type": "markdown",
   "metadata": {},
   "source": [
    "Any value can be interpreted as optional, which will cause `null` to be converted to `None`."
   ]
  },
  {
   "cell_type": "code",
   "execution_count": 16,
   "metadata": {
    "dotnet_interactive": {
     "language": "fsharp"
    },
    "polyglot_notebook": {
     "kernelName": "fsharp"
    }
   },
   "outputs": [
    {
     "name": "stdout",
     "output_type": "stream",
     "text": [
      "Some 680, Some Black\n"
     ]
    }
   ],
   "source": [
    "printfn \"%A, %A\"\n",
    "    (productsData[0].Data |> Seq.head |> TabDataRow.OptionalValue<int> \"ProductId\")\n",
    "    (productsData[0].Data |> Seq.head |> TabDataRow.OptionalUnionValue<Color> \"Color\")\n"
   ]
  },
  {
   "attachments": {},
   "cell_type": "markdown",
   "metadata": {},
   "source": [
    "Enums can be parsed from strings, or converted from the underlying type."
   ]
  },
  {
   "cell_type": "code",
   "execution_count": 19,
   "metadata": {
    "dotnet_interactive": {
     "language": "fsharp"
    },
    "polyglot_notebook": {
     "kernelName": "fsharp"
    }
   },
   "outputs": [
    {
     "name": "stdout",
     "output_type": "stream",
     "text": [
      "RoadFrames, RoadFrames\n"
     ]
    }
   ],
   "source": [
    "printfn \"%A, %A\"\n",
    "    (productsData[0].Data |> Seq.head |> TabDataRow.Value<Category> \"ProductCategoryID\")  \n",
    "    (productsData[0].Data |> Seq.head |> TabDataRow.EnumValue<Category> \"CategoryName\")"
   ]
  },
  {
   "attachments": {},
   "cell_type": "markdown",
   "metadata": {},
   "source": [
    "Union types must be pascal case, but Enum types may have a different convention.  If needed, you can specify the naming convention for your enum types.  Naming conventions are found in the `ChickenScratch.Utility` namespace."
   ]
  },
  {
   "cell_type": "code",
   "execution_count": 21,
   "metadata": {
    "dotnet_interactive": {
     "language": "fsharp"
    },
    "polyglot_notebook": {
     "kernelName": "fsharp"
    }
   },
   "outputs": [
    {
     "name": "stdout",
     "output_type": "stream",
     "text": [
      "road_frames, roadFrames\n"
     ]
    }
   ],
   "source": [
    "open ChickenScratch.Utility\n",
    "\n",
    "type SnakeCategory =\n",
    "| road_frames = 18\n",
    "| helmets = 35\n",
    "| socks = 27\n",
    "\n",
    "type CamelCategory =\n",
    "| roadFrames = 18\n",
    "| helmets = 35\n",
    "| socks = 27\n",
    "\n",
    "printfn \"%A, %A\"\n",
    "    (productsData[0].Data |> Seq.head |> TabDataRow.EnumValueWithConvention<SnakeCategory> SnakeCase \"CategoryName\")\n",
    "    (productsData[0].Data |> Seq.head |> TabDataRow.EnumValueWithConvention<CamelCategory> CamelCase \"CategoryName\")"
   ]
  }
 ],
 "metadata": {
  "kernelspec": {
   "display_name": ".NET (F#)",
   "language": "F#",
   "name": ".net-fsharp"
  },
  "language_info": {
   "name": "polyglot-notebook"
  },
  "polyglot_notebook": {
   "kernelInfo": {
    "defaultKernelName": "fsharp",
    "items": [
     {
      "aliases": [],
      "languageName": "fsharp",
      "name": "fsharp"
     },
     {
      "aliases": [],
      "languageName": "T-SQL",
      "name": "sql-advWorks"
     }
    ]
   }
  }
 },
 "nbformat": 4,
 "nbformat_minor": 2
}
